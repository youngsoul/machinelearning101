{
 "cells": [
  {
   "cell_type": "markdown",
   "metadata": {},
   "source": [
    "# Introduction to Machine Learning from an App Dev Perspective\n",
    "\n",
    "\n",
    "\"If I have seen further it is by standing on ye shoulders of giants\" - Sir Isaac Newton, 1675\n",
    "\n",
    "And so it is with this material.\n",
    "\n",
    "I have brought together material from multiple sources:\n",
    "\n",
    "### DataSchool.io \n",
    "*From the video series: [Introduction to machine learning with scikit-learn](https://github.com/justmarkham/scikit-learn-videos)*\n",
    "\n",
    "The owner, Kevin Markham, has a great video series along with accompanying Jupyter notebooks.  I have taken his [Machine Learning with Text in Python](http://www.dataschool.io/learn/) which I thought was well worth it.\n",
    "\n",
    "- Email: <kevin@dataschool.io>\n",
    "- Website: http://dataschool.io\n",
    "- Twitter: [@justmarkham](https://twitter.com/justmarkham)\n",
    "\n",
    "### Alyssa Batula, PyLadies Remote presentation\n",
    "- Alyssa gave a great overview of machine learning.  You can see that on [YouTube - Introduction to Machine Learning in Python with Alyssa Batula](https://www.youtube.com/watch?v=-BIGzKmxMGY).  \n",
    "- You can find her material on [GitHub](https://github.com/abatula/MachineLearningIntro)\n",
    "\n",
    "### Introduction to Machine Learning with Python: A Guide for Data Scientists\n",
    "- Book by Andreas Muller and Sarah Guido is a very consumeable guide to machine learning with great insight into the field.\n",
    "\n",
    "- You can find that on [Amazon](https://www.amazon.com/Introduction-Machine-Learning-Python-Scientists/dp/1449369413/ref=sr_1_2?ie=UTF8&qid=1511371961&sr=8-2&keywords=machine+learning+oreilly).\n",
    "\n",
    "- Andreas [GitHub](https://github.com/amueller/introduction_to_ml_with_python) material for the book.\n",
    "\n"
   ]
  },
  {
   "cell_type": "markdown",
   "metadata": {},
   "source": [
    "# Overall Agenda\n",
    "- Introduction to Machine Learning\n",
    "- How to setup a Python 3 environment with scikit-learn\n",
    "- Getting started with scikit data sets\n",
    "- How to train a supervised classification model\n",
    "- How to evaluate a supervised classification model\n",
    "- How to use a linear regression model\n",
    "- Using Grid Search to find the optimal model parameters\n",
    "- Classification metrics\n",
    "- Machine learning with Text\n",
    "- Unsupervised KMeans clustering\n"
   ]
  },
  {
   "cell_type": "markdown",
   "metadata": {},
   "source": [
    "# What is machine learning, and how does it work?\n",
    "\n",
    "From, Andreas Muller:\n",
    "\n",
    "\"Machine learning is the art and science of giving computers the ability to learn to make decisions from data... *without* the being explicitly programmed.\"\n"
   ]
  },
  {
   "cell_type": "markdown",
   "metadata": {},
   "source": [
    "![DataScience Venn Diagram](images/data-science-venn-diagram-computer-science-machine.png)"
   ]
  },
  {
   "cell_type": "markdown",
   "metadata": {},
   "source": [
    "## Agenda\n",
    "\n",
    "- What is machine learning?\n",
    "- What are the two main categories of machine learning?\n",
    "- What are some examples of machine learning?\n",
    "- How does machine learning \"work\"?"
   ]
  },
  {
   "cell_type": "markdown",
   "metadata": {},
   "source": [
    "## What is machine learning?\n",
    "\n",
    "**Definition**: \"Machine learning is the semi-automated extraction of knowledge from data\"\n",
    "\n",
    "**Definition**: \"Field of study that gives computers the ability to learn without being explictly programmed\" - Arthur Samuel\n",
    "\n",
    "**Definition**: Predicting the future based on past data\n",
    "\n",
    "\n",
    "Learn by observations\n",
    "\n",
    "- **Knowledge from data**: Starts with a question that might be answerable using data\n",
    "- **Automated extraction**: A computer provides the insight\n",
    "- **Semi-automated**: Machine learning still requires many smart decisions by a human"
   ]
  },
  {
   "cell_type": "markdown",
   "metadata": {},
   "source": [
    "![Machine learning](images/machineLearning-what.png)\n",
    "\n",
    "`https://pythonprogramming.net/machine-learning-python-sklearn-intro`"
   ]
  },
  {
   "cell_type": "markdown",
   "metadata": {},
   "source": [
    "# What kinds of problems can Machine Learning solve?\n",
    "\n",
    "- Classification\n",
    "    - Predict a category\n",
    "        - Ham or Spam email\n",
    "        - At risk for Diabetes (true/false)\n",
    "- Regression\n",
    "    - Predict a quantity\n",
    "        - Price of a house\n",
    "        - Amount of sales\n",
    "- Clustering\n",
    "    - Group similar things together, but you dont necessarily know what the things are"
   ]
  },
  {
   "cell_type": "markdown",
   "metadata": {},
   "source": [
    "## What are the two main categories of machine learning?\n",
    "\n",
    "**Supervised learning**: Making predictions using data\n",
    "\n",
    "Used for Classification and Regression\n",
    "    \n",
    "- Example: Is a given email \"spam\" or \"ham\"?\n",
    "- There is an outcome we are trying to predict"
   ]
  },
  {
   "cell_type": "markdown",
   "metadata": {},
   "source": [
    "![Spam filter](images/01_spam_filter.png)"
   ]
  },
  {
   "cell_type": "markdown",
   "metadata": {},
   "source": [
    "**Unsupervised learning**: Extracting structure from data\n",
    "\n",
    "Used for Clustering\n",
    "\n",
    "- Example: Segment grocery store shoppers into clusters that exhibit similar behaviors\n",
    "- There is no \"right answer\""
   ]
  },
  {
   "cell_type": "markdown",
   "metadata": {},
   "source": [
    "![Clustering](images/01_clustering.png)"
   ]
  },
  {
   "cell_type": "markdown",
   "metadata": {},
   "source": [
    "## How does machine learning \"work\"?\n",
    "\n",
    "High-level steps of **supervised learning**:\n",
    "\n",
    "1. Gather and Clean Data\n",
    "\n",
    "2. Feature Selection\n",
    "    - A feature is typically a column in a data set\n",
    "    - What data is relevant to question trying to be answered\n",
    "    - Some features just add noise and actually produce worse accuracy\n",
    "\n",
    "3. Select Machine Learning Model / Algorithm\n",
    "    - Different algorithms have very different prediction characteristics\n",
    "    - You will likely try many different kinds of Machine Learning Algorithms and determine the best one\n",
    "\n",
    "4. First, train a **machine learning model** using **labeled data**\n",
    "\n",
    "    - \"Labeled data\" has been labeled with the outcome\n",
    "    - \"Machine learning model\" learns the relationship between the attributes of the data and its outcome\n",
    "\n",
    "5. Then, make **predictions** on **new data** for which the label is unknown\n",
    "\n",
    "\n",
    "## Keep in Mind\n",
    "\n",
    "### <font color=green>Garbage In -> Garbage Out</font>\n",
    "\n",
    "\n",
    "### <font color=green>Change Anything -> Change Everything</font>\n",
    "\n",
    "\n",
    "### Data is responsible for how well the model performs."
   ]
  },
  {
   "cell_type": "markdown",
   "metadata": {},
   "source": [
    "![Supervised learning](images/01_supervised_learning.png)"
   ]
  },
  {
   "cell_type": "markdown",
   "metadata": {},
   "source": [
    "The primary goal of supervised learning is to build a model that \"generalizes\": It accurately predicts the **future** rather than the **past**!"
   ]
  },
  {
   "cell_type": "markdown",
   "metadata": {},
   "source": [
    "## Questions about machine learning\n",
    "\n",
    "- Does your data set **accurately** represent what you are trying to predict?\n",
    "- Does a feature contribute to the **signal** or the **noise** in the data?\n",
    "- How do I choose **which attributes** of my data to include in the model?\n",
    "- How do I choose **which model** to use?\n",
    "- How do I **optimize** this model for best performance?\n",
    "- How do I ensure that I'm building a model that will **generalize** to unseen data?\n",
    "- Can I **estimate** how well my model is likely to perform on unseen data?"
   ]
  },
  {
   "cell_type": "markdown",
   "metadata": {},
   "source": [
    "## Resources\n",
    "\n",
    "- Book: [An Introduction to Statistical Learning](http://www-bcf.usc.edu/~gareth/ISL/) (section 2.1, 14 pages)\n",
    "- Video: [Learning Paradigms](http://work.caltech.edu/library/014.html) (13 minutes)"
   ]
  }
 ],
 "metadata": {
  "kernelspec": {
   "display_name": "Python 3",
   "language": "python",
   "name": "python3"
  },
  "language_info": {
   "codemirror_mode": {
    "name": "ipython",
    "version": 3
   },
   "file_extension": ".py",
   "mimetype": "text/x-python",
   "name": "python",
   "nbconvert_exporter": "python",
   "pygments_lexer": "ipython3",
   "version": "3.7.0"
  },
  "toc": {
   "base_numbering": 1,
   "nav_menu": {},
   "number_sections": true,
   "sideBar": true,
   "skip_h1_title": false,
   "title_cell": "Table of Contents",
   "title_sidebar": "Contents",
   "toc_cell": false,
   "toc_position": {},
   "toc_section_display": true,
   "toc_window_display": false
  }
 },
 "nbformat": 4,
 "nbformat_minor": 1
}
