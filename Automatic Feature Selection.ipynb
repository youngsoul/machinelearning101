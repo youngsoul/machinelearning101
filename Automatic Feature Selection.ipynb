{
 "cells": [
  {
   "cell_type": "markdown",
   "metadata": {},
   "source": [
    "# Automatic Feature Selection\n",
    "\n",
    "In many cases we spend a good deal of time on *feature engineering* - the process of adding features to our model data.  But how do we know that the feature is helpful?  How can we be sure it is adding to the signal we are trying to measure and not just added noise.\n",
    "\n",
    "Adding more features to a model will make the model more complex and this will increase the likelyhood that the model will overfit the data.\n",
    "\n",
    "When you are confronted with a model with a large number of features, it is a good idea to ascertain if the feature is important, and if not, drop the feature.\n",
    "\n",
    "There are 3 ways to determine if a feature is important:\n",
    "\n",
    "#### Univariate Statistics\n",
    "\n",
    "#### Model-Based Solutions\n",
    "\n",
    "#### Iterative Selection\n",
    "\n",
    "All of these methods are supervised methods - meaning they need the target for fitting the model.  The data set to test whether the feature is important will be split into a training and test set, and a determination as to whether the feature is important will be made."
   ]
  },
  {
   "cell_type": "markdown",
   "metadata": {},
   "source": [
    "## Univariate Statistics - (ANOVA) analysis of variance\n",
    "\n",
    "Univariate statistics approach looks at each feature individually, not their interactions or cummulative impact, and will compute whether there is a staticially significant relationship between the feature in question and the target value.\n",
    "\n",
    "The features with the highest confidence are selected to keep in the model, and the others are dropped.\n",
    "\n",
    "This method is usually fast to execute, because we are not building a model - but just looking for a relationship.  It is even independent of the model that will ultimately be executed.\n",
    "\n",
    "In **scikit-learn** you choose either the *f_classif* test for classification, or *f_regression* for regression.  A *p-value* is calculated, and if the *p-value* exceeds a threshold as determined by either using *SelectKBest* (select the best 'k' number of features) or *SelectPercentile* (select a fixed percentage of best features)\n",
    "\n",
    "Below is an example taken from the book:\n",
    "### Introduction to Machine Learning with Python: A Guide for Data Scientists\n",
    "- Book by Andreas Muller and Sarah Guido is a very consumeable guide to machine learning with great insight into the field.\n",
    "\n",
    "- You can find that on [Amazon](https://www.amazon.com/Introduction-Machine-Learning-Python-Scientists/dp/1449369413/ref=sr_1_2?ie=UTF8&qid=1511371961&sr=8-2&keywords=machine+learning+oreilly).\n",
    "\n",
    "- Andreas [GitHub](https://github.com/amueller/introduction_to_ml_with_python) material for the book.\n",
    "\n",
    "Using the *scikit-learn* cancer dataset with some random noise added to the features.\n"
   ]
  },
  {
   "cell_type": "code",
   "execution_count": 47,
   "metadata": {},
   "outputs": [],
   "source": [
    "from sklearn.datasets import load_breast_cancer\n",
    "from sklearn.feature_selection import SelectPercentile, SelectKBest, SelectFpr\n",
    "from sklearn.model_selection import train_test_split\n",
    "import numpy as np\n",
    "from sklearn.feature_selection import f_classif \n",
    "import matplotlib.pyplot as plt\n",
    "%matplotlib inline"
   ]
  },
  {
   "cell_type": "code",
   "execution_count": 48,
   "metadata": {},
   "outputs": [],
   "source": [
    "cancer = load_breast_cancer()"
   ]
  },
  {
   "cell_type": "code",
   "execution_count": 49,
   "metadata": {},
   "outputs": [],
   "source": [
    "#get a deterministic set of random numbers - which seems like an oxymoron, \n",
    "# but to keep the results consistent - add a seed\n",
    "rng = np.random.RandomState(42)\n",
    "# create a random normal distribution centered at zero, with a standard deviation of 1\n",
    "# with an output shape of len(cancer.data) number of rows, and 50 columns\n",
    "noise = rng.normal(loc=0.0, scale=1.0,size=(len(cancer.data), 50))"
   ]
  },
  {
   "cell_type": "markdown",
   "metadata": {},
   "source": [
    "Lets look at the shape of the Cancer dataset, and the shape of the noise we are adding.\n",
    "\n",
    "Notice that the both have the same number of rows, and the cancer dataset has 30 features, and the noise has 50 columns of random values.\n",
    "\n",
    "After we add the noise to the dataset, we can then apply the techniques of automatic feature selection to see if we can eliminate the noise."
   ]
  },
  {
   "cell_type": "code",
   "execution_count": 50,
   "metadata": {},
   "outputs": [
    {
     "name": "stdout",
     "output_type": "stream",
     "text": [
      "(569, 30)\n",
      "(569, 50)\n"
     ]
    }
   ],
   "source": [
    "print(cancer.data.shape)\n",
    "print(noise.shape)"
   ]
  },
  {
   "cell_type": "code",
   "execution_count": 51,
   "metadata": {},
   "outputs": [
    {
     "name": "stdout",
     "output_type": "stream",
     "text": [
      "(569, 80)\n"
     ]
    }
   ],
   "source": [
    "# Add noise to the features\n",
    "# first 30 are features from the dataset, the next 50 are noise\n",
    "X_with_noise = np.hstack([cancer.data, noise])\n",
    "print(X_with_noise.shape)"
   ]
  },
  {
   "cell_type": "markdown",
   "metadata": {},
   "source": [
    "Split the data, via *train_test_split* and then apply the Univariate Statistics from scikit-learn."
   ]
  },
  {
   "cell_type": "code",
   "execution_count": 52,
   "metadata": {},
   "outputs": [],
   "source": [
    "X_train, X_test, y_train, y_test = train_test_split(X_with_noise, cancer.target, random_state=0, test_size=0.5)"
   ]
  },
  {
   "cell_type": "markdown",
   "metadata": {},
   "source": [
    "### f_classif and SelectPercentile to select 50% of the features\n",
    "\n",
    "The f_classif if the default test, but we are going to be explict.\n",
    "\n",
    "Also notice, that we are **NOT** creating a model, but using classes from the feature_selection package to fit and transform the training data."
   ]
  },
  {
   "cell_type": "code",
   "execution_count": 53,
   "metadata": {},
   "outputs": [],
   "source": [
    "select_percentile = SelectPercentile(score_func=f_classif, percentile=50)\n",
    "select_percentile.fit(X_train, y_train)\n",
    "\n",
    "# transform the training set\n",
    "X_train_select_percentile = select_percentile.transform(X_train)"
   ]
  },
  {
   "cell_type": "code",
   "execution_count": 54,
   "metadata": {},
   "outputs": [
    {
     "name": "stdout",
     "output_type": "stream",
     "text": [
      "X_train.shape: (284, 80)\n",
      "X_train_select_percentile.shape: (284, 40)\n"
     ]
    }
   ],
   "source": [
    "print(f\"X_train.shape: {X_train.shape}\")\n",
    "print(f\"X_train_select_percentile.shape: {X_train_select_percentile.shape}\")"
   ]
  },
  {
   "cell_type": "markdown",
   "metadata": {},
   "source": [
    "As you can see, the number of features was reduced by 50%\n",
    "\n",
    "*SelectPercentile* has a method **get_support** which will return a boolean mask of all of the features selected. We can use this to get a visual representation of the features that have been selected.\n"
   ]
  },
  {
   "cell_type": "code",
   "execution_count": 55,
   "metadata": {},
   "outputs": [
    {
     "data": {
      "text/plain": [
       "([], <a list of 0 Text yticklabel objects>)"
      ]
     },
     "execution_count": 55,
     "metadata": {},
     "output_type": "execute_result"
    },
    {
     "data": {
      "image/png": "[encoded data removed]",
      "text/plain": [
       "<matplotlib.figure.Figure at 0x109a08438>"
      ]
     },
     "metadata": {},
     "output_type": "display_data"
    }
   ],
   "source": [
    "mask = select_percentile.get_support()\n",
    "\n",
    "#visualize the mask -- black is True, white is False\n",
    "plt.matshow(mask.reshape(1, -1), cmap='gray_r') # reshape, 1 row all of the columns\n",
    "plt.xlabel('Selected Features')\n",
    "plt.yticks(())"
   ]
  },
  {
   "cell_type": "markdown",
   "metadata": {},
   "source": [
    "From above you can see that some of the features selected, were actually in the noise - and randomly showed a more staticially significant relationship than the original features did."
   ]
  },
  {
   "cell_type": "markdown",
   "metadata": {},
   "source": [
    "### f_classif and SelectKBest 40 features"
   ]
  },
  {
   "cell_type": "code",
   "execution_count": 56,
   "metadata": {},
   "outputs": [
    {
     "name": "stdout",
     "output_type": "stream",
     "text": [
      "X_train.shape: (284, 80)\n",
      "X_train_select_kbest.shape: (284, 40)\n"
     ]
    },
    {
     "data": {
      "text/plain": [
       "([], <a list of 0 Text yticklabel objects>)"
      ]
     },
     "execution_count": 56,
     "metadata": {},
     "output_type": "execute_result"
    },
    {
     "data": {
      "image/png": "[encoded data removed]",
      "text/plain": [
       "<matplotlib.figure.Figure at 0x108e26c18>"
      ]
     },
     "metadata": {},
     "output_type": "display_data"
    }
   ],
   "source": [
    "select_kbest = SelectKBest(score_func=f_classif, k=40)\n",
    "select_kbest.fit(X_train, y_train)\n",
    "\n",
    "# transform the training set\n",
    "X_train_select_kbest = select_kbest.transform(X_train)\n",
    "print(f\"X_train.shape: {X_train.shape}\")\n",
    "print(f\"X_train_select_kbest.shape: {X_train_select_kbest.shape}\")\n",
    "mask = select_kbest.get_support()\n",
    "\n",
    "#visualize the mask -- black is True, white is False\n",
    "plt.matshow(mask.reshape(1, -1), cmap='gray_r') # reshape, 1 row all of the columns\n",
    "plt.xlabel('Selected Features')\n",
    "plt.yticks(())"
   ]
  },
  {
   "cell_type": "markdown",
   "metadata": {},
   "source": [
    "As you would expect, it is exactly the same since we used the same scoring function.\n",
    "\n",
    "### f_classif and SelectFpr\n",
    "\n",
    "This selector will attempt to False Positive Rate\n",
    "\n",
    "Filter: Select the pvalues below alpha based on a FPR test.\n",
    "\n",
    "FPR test stands for False Positive Rate test. It controls the total amount of false detections."
   ]
  },
  {
   "cell_type": "code",
   "execution_count": 57,
   "metadata": {},
   "outputs": [
    {
     "name": "stdout",
     "output_type": "stream",
     "text": [
      "X_train.shape: (284, 80)\n",
      "X_train_select_fpr.shape: (284, 32)\n"
     ]
    },
    {
     "data": {
      "text/plain": [
       "([], <a list of 0 Text yticklabel objects>)"
      ]
     },
     "execution_count": 57,
     "metadata": {},
     "output_type": "execute_result"
    },
    {
     "data": {
      "image/png": "[encoded data removed]",
      "text/plain": [
       "<matplotlib.figure.Figure at 0x108e15a90>"
      ]
     },
     "metadata": {},
     "output_type": "display_data"
    }
   ],
   "source": [
    "select_fpr = SelectFpr(score_func=f_classif, alpha=0.05)\n",
    "select_fpr.fit(X_train, y_train)\n",
    "\n",
    "# transform the training set\n",
    "X_train_select_fpr = select_fpr.transform(X_train)\n",
    "print(f\"X_train.shape: {X_train.shape}\")\n",
    "print(f\"X_train_select_fpr.shape: {X_train_select_fpr.shape}\")\n",
    "mask = select_fpr.get_support()\n",
    "\n",
    "#visualize the mask -- black is True, white is False\n",
    "plt.matshow(mask.reshape(1, -1), cmap='gray_r') # reshape, 1 row all of the columns\n",
    "plt.xlabel('Selected Features')\n",
    "plt.yticks(())"
   ]
  },
  {
   "cell_type": "markdown",
   "metadata": {},
   "source": [
    "From above, you can see that this feature selection method selected a different set of features.\n",
    "\n",
    "Which set of features produces the better model.\n",
    "\n",
    "Using LogisticRegression on the different X_train_select values"
   ]
  },
  {
   "cell_type": "code",
   "execution_count": 58,
   "metadata": {},
   "outputs": [
    {
     "name": "stdout",
     "output_type": "stream",
     "text": [
      "Score with all Features: 0.9298245614035088\n",
      "Score with KBest Features: 0.9403508771929825\n",
      "Score with Fpr Features: 0.9473684210526315\n"
     ]
    }
   ],
   "source": [
    "from sklearn.linear_model import LogisticRegression\n",
    "\n",
    "# transform test data, because we have to apply the same transformation to the training and the test data\n",
    "X_test_select_kbest = select_kbest.transform(X_test)\n",
    "X_test_select_fpr = select_fpr.transform(X_test)\n",
    "\n",
    "lr = LogisticRegression()\n",
    "lr.fit(X_train, y_train)\n",
    "score = lr.score(X_test, y_test)\n",
    "\n",
    "lr.fit(X_train_select_kbest, y_train)\n",
    "score_kbest = lr.score(X_test_select_kbest, y_test)\n",
    "\n",
    "lr.fit(X_train_select_fpr, y_train)\n",
    "score_fpr = lr.score(X_test_select_fpr, y_test)\n",
    "\n",
    "print(f\"Score with all Features: {score}\")\n",
    "print(f\"Score with KBest Features: {score_kbest}\")\n",
    "print(f\"Score with Fpr Features: {score_fpr}\")\n"
   ]
  },
  {
   "cell_type": "markdown",
   "metadata": {},
   "source": [
    "### Univariate Statistics Summary\n",
    "\n",
    "Reviewing the model results above, you can see that the removing features that are not statistically significant to the target, will increase the accurracy score.  This technique is computationally efficient, but it only considers individual features and not the interaction between features.\n"
   ]
  },
  {
   "cell_type": "markdown",
   "metadata": {},
   "source": [
    "## Model-Bases Feature Selection - TODO  page 240"
   ]
  }
 ],
 "metadata": {
  "kernelspec": {
   "display_name": "Python 3",
   "language": "python",
   "name": "python3"
  },
  "language_info": {
   "codemirror_mode": {
    "name": "ipython",
    "version": 3
   },
   "file_extension": ".py",
   "mimetype": "text/x-python",
   "name": "python",
   "nbconvert_exporter": "python",
   "pygments_lexer": "ipython3",
   "version": "3.6.1"
  }
 },
 "nbformat": 4,
 "nbformat_minor": 2
}
