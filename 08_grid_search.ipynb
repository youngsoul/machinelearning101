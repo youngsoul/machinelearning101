{
 "cells": [
  {
   "cell_type": "markdown",
   "metadata": {},
   "source": [
    "# Efficiently searching for optimal tuning parameters using GridSearchCV\n"
   ]
  },
  {
   "cell_type": "markdown",
   "metadata": {},
   "source": [
    "## Agenda\n",
    "\n",
    "- How can K-fold cross-validation be used to search for an **optimal tuning parameter**?\n",
    "- How can this process be made **more efficient**?\n",
    "- How do you search for **multiple tuning parameters** at once?\n",
    "- What do you do with those tuning parameters before making **real predictions**?\n",
    "- How can the **computational expense** of this process be reduced?"
   ]
  },
  {
   "cell_type": "markdown",
   "metadata": {},
   "source": [
    "## Review of K-fold cross-validation"
   ]
  },
  {
   "cell_type": "markdown",
   "metadata": {},
   "source": [
    "Steps for cross-validation:\n",
    "\n",
    "- Dataset is split into K \"folds\" of **equal size**\n",
    "- Each fold acts as the **testing set** 1 time, and acts as the **training set** K-1 times\n",
    "- **Average testing performance** is used as the estimate of out-of-sample performance\n",
    "\n",
    "Benefits of cross-validation:\n",
    "\n",
    "- More **reliable** estimate of out-of-sample performance than train/test split\n",
    "- Can be used for selecting **tuning parameters**, choosing between **models**, and selecting **features**\n",
    "\n",
    "Drawbacks of cross-validation:\n",
    "\n",
    "- Can be computationally **expensive**"
   ]
  },
  {
   "cell_type": "markdown",
   "metadata": {},
   "source": [
    "## Review of parameter tuning using `cross_val_score`"
   ]
  },
  {
   "cell_type": "markdown",
   "metadata": {},
   "source": [
    "**Goal:** Select the best tuning parameters (aka \"hyperparameters\") for KNN on the iris dataset"
   ]
  },
  {
   "cell_type": "code",
   "execution_count": 84,
   "metadata": {},
   "outputs": [],
   "source": [
    "from sklearn.datasets import load_iris\n",
    "from sklearn.neighbors import KNeighborsClassifier\n",
    "from sklearn.model_selection import cross_val_score, train_test_split\n",
    "import matplotlib.pyplot as plt\n",
    "%matplotlib inline"
   ]
  },
  {
   "cell_type": "code",
   "execution_count": 85,
   "metadata": {},
   "outputs": [],
   "source": [
    "# read in the iris data\n",
    "iris = load_iris()\n",
    "\n",
    "# create X (features) and y (response)\n",
    "X = iris.data\n",
    "y = iris.target"
   ]
  },
  {
   "cell_type": "markdown",
   "metadata": {},
   "source": [
    "### KNeighborsClassifier with n_neighbors=5\n",
    "\n",
    "Lets use *n_neighbors=5* as the starting point.  There are two parameters to KNeighborsClassifier that we will work with to see if we can improve the model performance:\n",
    "\n",
    "- n_neighbors\n",
    "- weights\n",
    "\n",
    "There are other parameters to adjust, but to understand how **GridSearchCV** works we will only focus on those two."
   ]
  },
  {
   "cell_type": "code",
   "execution_count": 86,
   "metadata": {},
   "outputs": [
    {
     "name": "stdout",
     "output_type": "stream",
     "text": [
      "KNeighborsClassifier(algorithm='auto', leaf_size=30, metric='minkowski',\n",
      "           metric_params=None, n_jobs=1, n_neighbors=5, p=2,\n",
      "           weights='uniform')\n"
     ]
    }
   ],
   "source": [
    "# 10-fold cross-validation with K=5 for KNN (the n_neighbors parameter)\n",
    "knn = KNeighborsClassifier(n_neighbors=5)\n",
    "\n",
    "print(knn)"
   ]
  },
  {
   "cell_type": "code",
   "execution_count": 87,
   "metadata": {},
   "outputs": [
    {
     "name": "stdout",
     "output_type": "stream",
     "text": [
      "[1.         0.93333333 1.         1.         0.86666667 0.93333333\n",
      " 0.93333333 1.         1.         1.        ]\n"
     ]
    }
   ],
   "source": [
    "\n",
    "# Recall - that cross_val_score will use a stratified K-Fold strategy for classification models\n",
    "scores = cross_val_score(knn, X, y, cv=10, scoring='accuracy')\n",
    "print(scores)"
   ]
  },
  {
   "cell_type": "code",
   "execution_count": 88,
   "metadata": {},
   "outputs": [
    {
     "name": "stdout",
     "output_type": "stream",
     "text": [
      "0.9666666666666668\n"
     ]
    }
   ],
   "source": [
    "# use average accuracy as an estimate of out-of-sample accuracy\n",
    "print(scores.mean())"
   ]
  },
  {
   "cell_type": "markdown",
   "metadata": {},
   "source": [
    "### Manually Searching for the best n_neighbors value\n",
    "\n",
    "We know from above how n_neighbors=5 performs, but is that the best parameter value to use.  \n",
    "\n",
    "Lets create a loop and manually determine the best n_neighbors in the range of 1-31 to use."
   ]
  },
  {
   "cell_type": "code",
   "execution_count": 89,
   "metadata": {},
   "outputs": [
    {
     "name": "stdout",
     "output_type": "stream",
     "text": [
      "(1, 0.96)\n",
      "(2, 0.9533333333333334)\n",
      "(3, 0.9666666666666666)\n",
      "(4, 0.9666666666666666)\n",
      "(5, 0.9666666666666668)\n",
      "(6, 0.9666666666666668)\n",
      "(7, 0.9666666666666668)\n",
      "(8, 0.9666666666666668)\n",
      "(9, 0.9733333333333334)\n",
      "(10, 0.9666666666666668)\n",
      "(11, 0.9666666666666668)\n",
      "(12, 0.9733333333333334)\n",
      "(13, 0.9800000000000001)\n",
      "(14, 0.9733333333333334)\n",
      "(15, 0.9733333333333334)\n",
      "(16, 0.9733333333333334)\n",
      "(17, 0.9733333333333334)\n",
      "(18, 0.9800000000000001)\n",
      "(19, 0.9733333333333334)\n",
      "(20, 0.9800000000000001)\n",
      "(21, 0.9666666666666666)\n",
      "(22, 0.9666666666666666)\n",
      "(23, 0.9733333333333334)\n",
      "(24, 0.96)\n",
      "(25, 0.9666666666666666)\n",
      "(26, 0.96)\n",
      "(27, 0.9666666666666666)\n",
      "(28, 0.9533333333333334)\n",
      "(29, 0.9533333333333334)\n",
      "(30, 0.9533333333333334)\n"
     ]
    }
   ],
   "source": [
    "# search for an optimal value of K for KNN\n",
    "k_range = list(range(1, 31))\n",
    "k_scores = []\n",
    "for k in k_range:\n",
    "    knn = KNeighborsClassifier(n_neighbors=k)\n",
    "    scores = cross_val_score(knn, X, y, cv=10, scoring='accuracy')\n",
    "    k_scores.append(scores.mean())\n",
    "print(*list(zip(range(1,31),k_scores)), sep='\\n')\n"
   ]
  },
  {
   "cell_type": "markdown",
   "metadata": {},
   "source": [
    "From the list above we can see that .98 is largest value and it occured with n_neighbors equal to 13, 18, and 20\n",
    "\n",
    "Let see how that looks graphically."
   ]
  },
  {
   "cell_type": "code",
   "execution_count": 90,
   "metadata": {},
   "outputs": [
    {
     "data": {
      "text/plain": [
       "Text(0,0.5,'Cross-Validated Accuracy')"
      ]
     },
     "execution_count": 90,
     "metadata": {},
     "output_type": "execute_result"
    },
    {
     "data": {
      "image/png": "[encoded data removed]",
      "text/plain": [
       "<Figure size 432x288 with 1 Axes>"
      ]
     },
     "metadata": {},
     "output_type": "display_data"
    }
   ],
   "source": [
    "# plot the value of K for KNN (x-axis) versus the cross-validated accuracy (y-axis)\n",
    "plt.plot(k_range, k_scores)\n",
    "plt.xlabel('Value of K for KNN')\n",
    "plt.ylabel('Cross-Validated Accuracy')"
   ]
  },
  {
   "cell_type": "markdown",
   "metadata": {},
   "source": [
    "You can clearly see that n_neighbors=5, while providing a good accuracy score, is not that best we can do.  we can actually do much better with a different value of k.\n",
    "\n",
    "Lets use use **GridSearchCV** to show how we can performance the same analysis."
   ]
  },
  {
   "cell_type": "markdown",
   "metadata": {},
   "source": [
    "## More efficient parameter tuning using `GridSearchCV`"
   ]
  },
  {
   "cell_type": "markdown",
   "metadata": {},
   "source": [
    "Allows you to define a **grid of parameters** that will be **searched** using K-fold cross-validation\n",
    "\n",
    "\n",
    "### Caveat:  train_test_split and CrossValidation\n",
    "\n",
    "Even when using **GridSearchCV**, you must still **split your data into a training set and a testing set** to avoid the possibility of overfitting the model.  The reason is you cannot use all of the data when trying to determine the optimial parameters. \n",
    "\n",
    "See this [StackOverflow](https://stats.stackexchange.com/questions/224287/cross-validation-misuse-reporting-performance-for-the-best-hyperparameter-value/224290#224290)\n",
    "\n",
    "This is rarely pointed out in blog posts, but was mentioned in the book:\n",
    "\n",
    "*Introduction to Machine Learning with Python: A Guide for Data Scientists*\n",
    "- Book by Andreas Muller and Sarah Guido is a very consumeable guide to machine learning with great insight into the field.\n",
    "\n",
    "on page 268.  \n",
    "\n",
    "We will perform a *train_test_split* and hold out the test set so that we can perform a score calculation after the training set is used to find the optimal model parameters.\n",
    "\n",
    "\n",
    "### Important Attributes of GridSearchCV\n",
    "- cv_results_\n",
    "- best_estimator_\n",
    "- best_score_\n",
    "- best_params_\n"
   ]
  },
  {
   "cell_type": "code",
   "execution_count": 91,
   "metadata": {},
   "outputs": [],
   "source": [
    "from sklearn.model_selection import GridSearchCV"
   ]
  },
  {
   "cell_type": "markdown",
   "metadata": {},
   "source": [
    "In this example, only search for the best value for a single parameter, n_neighbors"
   ]
  },
  {
   "cell_type": "code",
   "execution_count": 92,
   "metadata": {},
   "outputs": [
    {
     "name": "stdout",
     "output_type": "stream",
     "text": [
      "[1, 2, 3, 4, 5, 6, 7, 8, 9, 10, 11, 12, 13, 14, 15, 16, 17, 18, 19, 20, 21, 22, 23, 24, 25, 26, 27, 28, 29, 30]\n"
     ]
    }
   ],
   "source": [
    "# define the parameter values that should be searched\n",
    "k_range = list(range(1, 31))\n",
    "print(k_range)"
   ]
  },
  {
   "cell_type": "markdown",
   "metadata": {},
   "source": [
    "GridSearchCV takes a dictionary of parameters to apply to the model.  The keys in the dictionary correspond to the parameter names, and the values in the dictionary represent the collection of values that GridSearchCV should try.  If there are multiple entries in the dictionary then GridSearchCV will try every combination of values.\n",
    "\n",
    "For this reason, GridSearchCV can be very computationally expensive and time expensive."
   ]
  },
  {
   "cell_type": "code",
   "execution_count": 93,
   "metadata": {},
   "outputs": [
    {
     "name": "stdout",
     "output_type": "stream",
     "text": [
      "{'n_neighbors': [1, 2, 3, 4, 5, 6, 7, 8, 9, 10, 11, 12, 13, 14, 15, 16, 17, 18, 19, 20, 21, 22, 23, 24, 25, 26, 27, 28, 29, 30]}\n"
     ]
    }
   ],
   "source": [
    "# create a parameter grid: map the parameter names to the values that should be searched\n",
    "param_grid = dict(n_neighbors=k_range)\n",
    "print(param_grid)"
   ]
  },
  {
   "cell_type": "markdown",
   "metadata": {},
   "source": [
    "#### GridSearchCV\n",
    "\n",
    "This function will take a model, a parameter dictionary of all of the parameters to try and the cross fold to find the best combination of model parameters.\n",
    "\n",
    "In this example, we are creating a parameter dictionary with just the *n_neighbors* parameter with the values 1 to 30.  GridSearchCV will use this to perform the model evaluation and find the best model based on the scoring parameter which we have set to *accuracy*\n",
    "\n",
    "Recall that the *CrossValidation* will either be a StratifiedCrossValidation for Classification models, or a K-Fold CrossValidation for Regression models"
   ]
  },
  {
   "cell_type": "code",
   "execution_count": 94,
   "metadata": {},
   "outputs": [],
   "source": [
    "# instantiate the grid\n",
    "grid = GridSearchCV(KNeighborsClassifier(), param_grid, cv=10, scoring='accuracy', return_train_score=True)"
   ]
  },
  {
   "cell_type": "markdown",
   "metadata": {},
   "source": [
    "- You can set **`n_jobs = -1`** to run computations in parallel (if supported by your computer and OS)\n",
    "\n",
    "#### GridSearchCV has the same API as any SciKit Learn model.  \n",
    "\n",
    "Therfore 'fit' and 'predict' methods are available on GridSearchCV\n",
    "\n",
    "Notice below we are performing a *train_test_split*.  This will hold out the test data from the GridSearchCV so we can calculation a test score on data the model has never seen.  Keep in mind, that train_test_split removes a random sample so the results you get might be different. \n",
    "\n",
    "In theory we can create a nest cross_val_score using the GridSearchCV to get a very good idea of the generalization accuracy."
   ]
  },
  {
   "cell_type": "code",
   "execution_count": 95,
   "metadata": {},
   "outputs": [],
   "source": [
    "X_train, X_test, y_train, y_test = train_test_split(X,y, test_size=0.2)"
   ]
  },
  {
   "cell_type": "markdown",
   "metadata": {},
   "source": [
    "When we call *fit* on the *GridSearchCV* instance, that method will run through all of the parameters to determine the best parameters for the model.  \n",
    "\n",
    "Because GridSearchCV has the same interface as any model, we can call fit, predict, score, etc."
   ]
  },
  {
   "cell_type": "code",
   "execution_count": 96,
   "metadata": {},
   "outputs": [
    {
     "data": {
      "text/plain": [
       "GridSearchCV(cv=10, error_score='raise',\n",
       "       estimator=KNeighborsClassifier(algorithm='auto', leaf_size=30, metric='minkowski',\n",
       "           metric_params=None, n_jobs=1, n_neighbors=5, p=2,\n",
       "           weights='uniform'),\n",
       "       fit_params=None, iid=True, n_jobs=1,\n",
       "       param_grid={'n_neighbors': [1, 2, 3, 4, 5, 6, 7, 8, 9, 10, 11, 12, 13, 14, 15, 16, 17, 18, 19, 20, 21, 22, 23, 24, 25, 26, 27, 28, 29, 30]},\n",
       "       pre_dispatch='2*n_jobs', refit=True, return_train_score=True,\n",
       "       scoring='accuracy', verbose=0)"
      ]
     },
     "execution_count": 96,
     "metadata": {},
     "output_type": "execute_result"
    }
   ],
   "source": [
    "# fit the grid with data\n",
    "grid.fit(X_train, y_train)"
   ]
  },
  {
   "cell_type": "code",
   "execution_count": 97,
   "metadata": {},
   "outputs": [
    {
     "name": "stdout",
     "output_type": "stream",
     "text": [
      "mean: 0.958 (+/-0.110) params: {'n_neighbors': 1}\n",
      "mean: 0.942 (+/-0.124) params: {'n_neighbors': 2}\n",
      "mean: 0.958 (+/-0.110) params: {'n_neighbors': 3}\n",
      "mean: 0.950 (+/-0.109) params: {'n_neighbors': 4}\n",
      "mean: 0.967 (+/-0.079) params: {'n_neighbors': 5}\n",
      "mean: 0.967 (+/-0.079) params: {'n_neighbors': 6}\n",
      "mean: 0.958 (+/-0.081) params: {'n_neighbors': 7}\n",
      "mean: 0.975 (+/-0.099) params: {'n_neighbors': 8}\n",
      "mean: 0.975 (+/-0.074) params: {'n_neighbors': 9}\n",
      "mean: 0.975 (+/-0.099) params: {'n_neighbors': 10}\n",
      "mean: 0.983 (+/-0.064) params: {'n_neighbors': 11}\n",
      "mean: 0.967 (+/-0.103) params: {'n_neighbors': 12}\n",
      "mean: 0.967 (+/-0.103) params: {'n_neighbors': 13}\n",
      "mean: 0.967 (+/-0.103) params: {'n_neighbors': 14}\n",
      "mean: 0.983 (+/-0.064) params: {'n_neighbors': 15}\n",
      "mean: 0.975 (+/-0.099) params: {'n_neighbors': 16}\n",
      "mean: 0.975 (+/-0.099) params: {'n_neighbors': 17}\n",
      "mean: 0.950 (+/-0.127) params: {'n_neighbors': 18}\n",
      "mean: 0.958 (+/-0.104) params: {'n_neighbors': 19}\n",
      "mean: 0.942 (+/-0.124) params: {'n_neighbors': 20}\n",
      "mean: 0.942 (+/-0.124) params: {'n_neighbors': 21}\n",
      "mean: 0.942 (+/-0.124) params: {'n_neighbors': 22}\n",
      "mean: 0.942 (+/-0.124) params: {'n_neighbors': 23}\n",
      "mean: 0.942 (+/-0.124) params: {'n_neighbors': 24}\n",
      "mean: 0.958 (+/-0.128) params: {'n_neighbors': 25}\n",
      "mean: 0.942 (+/-0.124) params: {'n_neighbors': 26}\n",
      "mean: 0.942 (+/-0.125) params: {'n_neighbors': 27}\n",
      "mean: 0.933 (+/-0.140) params: {'n_neighbors': 28}\n",
      "mean: 0.925 (+/-0.134) params: {'n_neighbors': 29}\n",
      "mean: 0.933 (+/-0.140) params: {'n_neighbors': 30}\n"
     ]
    }
   ],
   "source": [
    "means = grid.cv_results_['mean_test_score']\n",
    "stds = grid.cv_results_['std_test_score']\n",
    "\n",
    "# To get the equivalent of grid_scores_ ( which is deprecated )\n",
    "for mean, std, params in zip(means, stds, grid.cv_results_['params']):\n",
    "    print(\"mean: %0.3f (+/-%0.03f) params: %r\"% (mean, std * 2, params))\n"
   ]
  },
  {
   "cell_type": "code",
   "execution_count": 98,
   "metadata": {},
   "outputs": [
    {
     "name": "stdout",
     "output_type": "stream",
     "text": [
      "{'n_neighbors': 1}\n",
      "[0.92857143 0.85714286 0.92857143 0.92857143 0.92857143 0.92857143\n",
      " 0.92857143 0.85714286 0.92857143 0.85714286 0.92857143 0.85714286\n",
      " 0.85714286 0.85714286 0.92857143 0.85714286 0.85714286 0.85714286\n",
      " 0.85714286 0.85714286 0.85714286 0.85714286 0.85714286 0.85714286\n",
      " 0.85714286 0.85714286 0.85714286 0.85714286 0.85714286 0.85714286]\n",
      "0.9583333333333334\n"
     ]
    }
   ],
   "source": [
    "print(grid.cv_results_['params'][0])\n",
    "print(grid.cv_results_['split0_test_score'])\n",
    "print(grid.cv_results_['mean_test_score'][0])\n"
   ]
  },
  {
   "cell_type": "code",
   "execution_count": 99,
   "metadata": {},
   "outputs": [
    {
     "name": "stdout",
     "output_type": "stream",
     "text": [
      "[0.9583333333333334, 0.9416666666666667, 0.9583333333333334, 0.95, 0.9666666666666667, 0.9666666666666667, 0.9583333333333334, 0.975, 0.975, 0.975, 0.9833333333333333, 0.9666666666666667, 0.9666666666666667, 0.9666666666666667, 0.9833333333333333, 0.975, 0.975, 0.95, 0.9583333333333334, 0.9416666666666667, 0.9416666666666667, 0.9416666666666667, 0.9416666666666667, 0.9416666666666667, 0.9583333333333334, 0.9416666666666667, 0.9416666666666667, 0.9333333333333333, 0.925, 0.9333333333333333]\n"
     ]
    }
   ],
   "source": [
    "# create a list of the mean scores only\n",
    "grid_mean_scores = [result for result in grid.cv_results_['mean_test_score']]\n",
    "print(grid_mean_scores)"
   ]
  },
  {
   "cell_type": "code",
   "execution_count": 100,
   "metadata": {},
   "outputs": [
    {
     "data": {
      "text/plain": [
       "Text(0,0.5,'Cross-Validated Accuracy')"
      ]
     },
     "execution_count": 100,
     "metadata": {},
     "output_type": "execute_result"
    },
    {
     "data": {
      "image/png": "[encoded data removed]",
      "text/plain": [
       "<Figure size 432x288 with 1 Axes>"
      ]
     },
     "metadata": {},
     "output_type": "display_data"
    }
   ],
   "source": [
    "# plot the results\n",
    "plt.plot(k_range, grid_mean_scores)\n",
    "plt.xlabel('Value of K for KNN')\n",
    "plt.ylabel('Cross-Validated Accuracy')"
   ]
  },
  {
   "cell_type": "markdown",
   "metadata": {},
   "source": [
    "## Best Estimator\n",
    "\n",
    "GridSearchCV has properties which will hold the best score, params and estimator."
   ]
  },
  {
   "cell_type": "code",
   "execution_count": 101,
   "metadata": {},
   "outputs": [
    {
     "name": "stdout",
     "output_type": "stream",
     "text": [
      "0.9833333333333333\n",
      "{'n_neighbors': 11}\n",
      "KNeighborsClassifier(algorithm='auto', leaf_size=30, metric='minkowski',\n",
      "           metric_params=None, n_jobs=1, n_neighbors=11, p=2,\n",
      "           weights='uniform')\n"
     ]
    }
   ],
   "source": [
    "# examine the best model\n",
    "print(grid.best_score_)\n",
    "print(grid.best_params_)\n",
    "print(grid.best_estimator_)"
   ]
  },
  {
   "cell_type": "markdown",
   "metadata": {},
   "source": [
    "Lets use the best estimator model with the test set and calculation the score on data the model has never seen."
   ]
  },
  {
   "cell_type": "code",
   "execution_count": 102,
   "metadata": {},
   "outputs": [
    {
     "name": "stdout",
     "output_type": "stream",
     "text": [
      "0.9666666666666667\n"
     ]
    }
   ],
   "source": [
    "score = grid.best_estimator_.score(X_test, y_test)\n",
    "print(score)"
   ]
  },
  {
   "cell_type": "markdown",
   "metadata": {},
   "source": [
    "Now that we know that for the above run - it looks like n_neighbors = 11, and weights=uniform is the best model parameters.\n",
    "\n",
    "Lets run a nested cross validation to get an idea of the generalization acurracy.\n"
   ]
  },
  {
   "cell_type": "markdown",
   "metadata": {},
   "source": [
    "## Searching multiple parameters simultaneously"
   ]
  },
  {
   "cell_type": "markdown",
   "metadata": {},
   "source": [
    "- Search across 'k' values from 1 - 30\n",
    "- Search across weights between 'uniform' and 'distance'\n"
   ]
  },
  {
   "cell_type": "code",
   "execution_count": 103,
   "metadata": {},
   "outputs": [],
   "source": [
    "# define the parameter values that should be searched\n",
    "k_range = list(range(1, 31))\n",
    "weight_options = ['uniform', 'distance']"
   ]
  },
  {
   "cell_type": "code",
   "execution_count": 104,
   "metadata": {},
   "outputs": [
    {
     "name": "stdout",
     "output_type": "stream",
     "text": [
      "{'n_neighbors': [1, 2, 3, 4, 5, 6, 7, 8, 9, 10, 11, 12, 13, 14, 15, 16, 17, 18, 19, 20, 21, 22, 23, 24, 25, 26, 27, 28, 29, 30], 'weights': ['uniform', 'distance']}\n"
     ]
    }
   ],
   "source": [
    "# create a parameter grid: map the parameter names to the values that should be searched\n",
    "param_grid = dict(n_neighbors=k_range, weights=weight_options)\n",
    "print(param_grid)"
   ]
  },
  {
   "cell_type": "code",
   "execution_count": 105,
   "metadata": {},
   "outputs": [
    {
     "name": "stdout",
     "output_type": "stream",
     "text": [
      "CPU times: user 1.15 s, sys: 7.8 ms, total: 1.16 s\n",
      "Wall time: 1.17 s\n"
     ]
    },
    {
     "data": {
      "text/plain": [
       "GridSearchCV(cv=10, error_score='raise',\n",
       "       estimator=KNeighborsClassifier(algorithm='auto', leaf_size=30, metric='minkowski',\n",
       "           metric_params=None, n_jobs=1, n_neighbors=30, p=2,\n",
       "           weights='uniform'),\n",
       "       fit_params=None, iid=True, n_jobs=1,\n",
       "       param_grid={'n_neighbors': [1, 2, 3, 4, 5, 6, 7, 8, 9, 10, 11, 12, 13, 14, 15, 16, 17, 18, 19, 20, 21, 22, 23, 24, 25, 26, 27, 28, 29, 30], 'weights': ['uniform', 'distance']},\n",
       "       pre_dispatch='2*n_jobs', refit=True, return_train_score='warn',\n",
       "       scoring='accuracy', verbose=0)"
      ]
     },
     "execution_count": 105,
     "metadata": {},
     "output_type": "execute_result"
    }
   ],
   "source": [
    "# instantiate and fit the grid\n",
    "grid = GridSearchCV(knn, param_grid, cv=10, scoring='accuracy')\n",
    "%time grid.fit(X_train, y_train)"
   ]
  },
  {
   "cell_type": "code",
   "execution_count": 106,
   "metadata": {},
   "outputs": [
    {
     "name": "stdout",
     "output_type": "stream",
     "text": [
      "mean: 0.958 (+/-0.110) params: {'n_neighbors': 1, 'weights': 'uniform'}\n",
      "mean: 0.958 (+/-0.110) params: {'n_neighbors': 1, 'weights': 'distance'}\n",
      "mean: 0.942 (+/-0.124) params: {'n_neighbors': 2, 'weights': 'uniform'}\n",
      "mean: 0.958 (+/-0.110) params: {'n_neighbors': 2, 'weights': 'distance'}\n",
      "mean: 0.958 (+/-0.110) params: {'n_neighbors': 3, 'weights': 'uniform'}\n",
      "mean: 0.958 (+/-0.110) params: {'n_neighbors': 3, 'weights': 'distance'}\n",
      "mean: 0.950 (+/-0.109) params: {'n_neighbors': 4, 'weights': 'uniform'}\n",
      "mean: 0.958 (+/-0.110) params: {'n_neighbors': 4, 'weights': 'distance'}\n",
      "mean: 0.967 (+/-0.079) params: {'n_neighbors': 5, 'weights': 'uniform'}\n",
      "mean: 0.967 (+/-0.079) params: {'n_neighbors': 5, 'weights': 'distance'}\n",
      "mean: 0.967 (+/-0.079) params: {'n_neighbors': 6, 'weights': 'uniform'}\n",
      "mean: 0.967 (+/-0.079) params: {'n_neighbors': 6, 'weights': 'distance'}\n",
      "mean: 0.958 (+/-0.081) params: {'n_neighbors': 7, 'weights': 'uniform'}\n",
      "mean: 0.958 (+/-0.081) params: {'n_neighbors': 7, 'weights': 'distance'}\n",
      "mean: 0.975 (+/-0.099) params: {'n_neighbors': 8, 'weights': 'uniform'}\n",
      "mean: 0.967 (+/-0.079) params: {'n_neighbors': 8, 'weights': 'distance'}\n",
      "mean: 0.975 (+/-0.074) params: {'n_neighbors': 9, 'weights': 'uniform'}\n",
      "mean: 0.967 (+/-0.079) params: {'n_neighbors': 9, 'weights': 'distance'}\n",
      "mean: 0.975 (+/-0.099) params: {'n_neighbors': 10, 'weights': 'uniform'}\n",
      "mean: 0.975 (+/-0.074) params: {'n_neighbors': 10, 'weights': 'distance'}\n",
      "mean: 0.983 (+/-0.064) params: {'n_neighbors': 11, 'weights': 'uniform'}\n",
      "mean: 0.983 (+/-0.064) params: {'n_neighbors': 11, 'weights': 'distance'}\n",
      "mean: 0.967 (+/-0.103) params: {'n_neighbors': 12, 'weights': 'uniform'}\n",
      "mean: 0.975 (+/-0.074) params: {'n_neighbors': 12, 'weights': 'distance'}\n",
      "mean: 0.967 (+/-0.103) params: {'n_neighbors': 13, 'weights': 'uniform'}\n",
      "mean: 0.975 (+/-0.074) params: {'n_neighbors': 13, 'weights': 'distance'}\n",
      "mean: 0.967 (+/-0.103) params: {'n_neighbors': 14, 'weights': 'uniform'}\n",
      "mean: 0.967 (+/-0.079) params: {'n_neighbors': 14, 'weights': 'distance'}\n",
      "mean: 0.983 (+/-0.064) params: {'n_neighbors': 15, 'weights': 'uniform'}\n",
      "mean: 0.975 (+/-0.074) params: {'n_neighbors': 15, 'weights': 'distance'}\n",
      "mean: 0.975 (+/-0.099) params: {'n_neighbors': 16, 'weights': 'uniform'}\n",
      "mean: 0.975 (+/-0.074) params: {'n_neighbors': 16, 'weights': 'distance'}\n",
      "mean: 0.975 (+/-0.099) params: {'n_neighbors': 17, 'weights': 'uniform'}\n",
      "mean: 0.975 (+/-0.074) params: {'n_neighbors': 17, 'weights': 'distance'}\n",
      "mean: 0.950 (+/-0.127) params: {'n_neighbors': 18, 'weights': 'uniform'}\n",
      "mean: 0.967 (+/-0.079) params: {'n_neighbors': 18, 'weights': 'distance'}\n",
      "mean: 0.958 (+/-0.104) params: {'n_neighbors': 19, 'weights': 'uniform'}\n",
      "mean: 0.975 (+/-0.074) params: {'n_neighbors': 19, 'weights': 'distance'}\n",
      "mean: 0.942 (+/-0.124) params: {'n_neighbors': 20, 'weights': 'uniform'}\n",
      "mean: 0.967 (+/-0.079) params: {'n_neighbors': 20, 'weights': 'distance'}\n",
      "mean: 0.942 (+/-0.124) params: {'n_neighbors': 21, 'weights': 'uniform'}\n",
      "mean: 0.967 (+/-0.079) params: {'n_neighbors': 21, 'weights': 'distance'}\n",
      "mean: 0.942 (+/-0.124) params: {'n_neighbors': 22, 'weights': 'uniform'}\n",
      "mean: 0.958 (+/-0.104) params: {'n_neighbors': 22, 'weights': 'distance'}\n",
      "mean: 0.942 (+/-0.124) params: {'n_neighbors': 23, 'weights': 'uniform'}\n",
      "mean: 0.958 (+/-0.104) params: {'n_neighbors': 23, 'weights': 'distance'}\n",
      "mean: 0.942 (+/-0.124) params: {'n_neighbors': 24, 'weights': 'uniform'}\n",
      "mean: 0.958 (+/-0.104) params: {'n_neighbors': 24, 'weights': 'distance'}\n",
      "mean: 0.958 (+/-0.128) params: {'n_neighbors': 25, 'weights': 'uniform'}\n",
      "mean: 0.958 (+/-0.104) params: {'n_neighbors': 25, 'weights': 'distance'}\n",
      "mean: 0.942 (+/-0.124) params: {'n_neighbors': 26, 'weights': 'uniform'}\n",
      "mean: 0.958 (+/-0.104) params: {'n_neighbors': 26, 'weights': 'distance'}\n",
      "mean: 0.942 (+/-0.125) params: {'n_neighbors': 27, 'weights': 'uniform'}\n",
      "mean: 0.958 (+/-0.104) params: {'n_neighbors': 27, 'weights': 'distance'}\n",
      "mean: 0.933 (+/-0.140) params: {'n_neighbors': 28, 'weights': 'uniform'}\n",
      "mean: 0.942 (+/-0.124) params: {'n_neighbors': 28, 'weights': 'distance'}\n",
      "mean: 0.925 (+/-0.134) params: {'n_neighbors': 29, 'weights': 'uniform'}\n",
      "mean: 0.942 (+/-0.124) params: {'n_neighbors': 29, 'weights': 'distance'}\n",
      "mean: 0.933 (+/-0.140) params: {'n_neighbors': 30, 'weights': 'uniform'}\n",
      "mean: 0.950 (+/-0.127) params: {'n_neighbors': 30, 'weights': 'distance'}\n"
     ]
    }
   ],
   "source": [
    "means = grid.cv_results_['mean_test_score']\n",
    "stds = grid.cv_results_['std_test_score']\n",
    "\n",
    "top_scores = []\n",
    "# To get the equivalent of grid_scores_ ( which is deprecated )\n",
    "for mean, std, params in zip(means, stds, grid.cv_results_['params']):\n",
    "    print(\"mean: %0.3f (+/-%0.03f) params: %r\"% (mean, std * 2, params))\n",
    "    if mean >= grid.best_score_-0.5:\n",
    "        top_scores.append((mean, std*2, params))\n"
   ]
  },
  {
   "cell_type": "code",
   "execution_count": 107,
   "metadata": {},
   "outputs": [
    {
     "name": "stdout",
     "output_type": "stream",
     "text": [
      "0.9833333333333333\n",
      "{'n_neighbors': 11, 'weights': 'uniform'}\n"
     ]
    }
   ],
   "source": [
    "# examine the best model\n",
    "print(grid.best_score_)\n",
    "print(grid.best_params_)"
   ]
  },
  {
   "cell_type": "code",
   "execution_count": 108,
   "metadata": {},
   "outputs": [
    {
     "name": "stdout",
     "output_type": "stream",
     "text": [
      "(0.9583333333333334, 0.11001442906807544, {'n_neighbors': 1, 'weights': 'uniform'})\n",
      "(0.9583333333333334, 0.11001442906807544, {'n_neighbors': 1, 'weights': 'distance'})\n",
      "(0.9416666666666667, 0.12392393980641052, {'n_neighbors': 2, 'weights': 'uniform'})\n",
      "(0.9583333333333334, 0.11001442906807544, {'n_neighbors': 2, 'weights': 'distance'})\n",
      "(0.9583333333333334, 0.11001442906807544, {'n_neighbors': 3, 'weights': 'uniform'})\n",
      "(0.9583333333333334, 0.11001442906807544, {'n_neighbors': 3, 'weights': 'distance'})\n",
      "(0.95, 0.10874464044446891, {'n_neighbors': 4, 'weights': 'uniform'})\n",
      "(0.9583333333333334, 0.11001442906807544, {'n_neighbors': 4, 'weights': 'distance'})\n",
      "(0.9666666666666667, 0.07918232927769474, {'n_neighbors': 5, 'weights': 'uniform'})\n",
      "(0.9666666666666667, 0.07918232927769474, {'n_neighbors': 5, 'weights': 'distance'})\n",
      "(0.9666666666666667, 0.07918232927769474, {'n_neighbors': 6, 'weights': 'uniform'})\n",
      "(0.9666666666666667, 0.07918232927769474, {'n_neighbors': 6, 'weights': 'distance'})\n",
      "(0.9583333333333334, 0.08091735937126872, {'n_neighbors': 7, 'weights': 'uniform'})\n",
      "(0.9583333333333334, 0.08091735937126872, {'n_neighbors': 7, 'weights': 'distance'})\n",
      "(0.975, 0.09900296612519903, {'n_neighbors': 8, 'weights': 'uniform'})\n",
      "(0.9666666666666667, 0.07918232927769474, {'n_neighbors': 8, 'weights': 'distance'})\n",
      "(0.975, 0.07373267889143822, {'n_neighbors': 9, 'weights': 'uniform'})\n",
      "(0.9666666666666667, 0.07918232927769474, {'n_neighbors': 9, 'weights': 'distance'})\n",
      "(0.975, 0.09900296612519903, {'n_neighbors': 10, 'weights': 'uniform'})\n",
      "(0.975, 0.07373267889143822, {'n_neighbors': 10, 'weights': 'distance'})\n",
      "(0.9833333333333333, 0.06362090102803518, {'n_neighbors': 11, 'weights': 'uniform'})\n",
      "(0.9833333333333333, 0.06362090102803518, {'n_neighbors': 11, 'weights': 'distance'})\n",
      "(0.9666666666666667, 0.10312575156051297, {'n_neighbors': 12, 'weights': 'uniform'})\n",
      "(0.975, 0.07373267889143822, {'n_neighbors': 12, 'weights': 'distance'})\n",
      "(0.9666666666666667, 0.10312575156051297, {'n_neighbors': 13, 'weights': 'uniform'})\n",
      "(0.975, 0.07373267889143822, {'n_neighbors': 13, 'weights': 'distance'})\n",
      "(0.9666666666666667, 0.10312575156051297, {'n_neighbors': 14, 'weights': 'uniform'})\n",
      "(0.9666666666666667, 0.07918232927769474, {'n_neighbors': 14, 'weights': 'distance'})\n",
      "(0.9833333333333333, 0.06362090102803518, {'n_neighbors': 15, 'weights': 'uniform'})\n",
      "(0.975, 0.07373267889143822, {'n_neighbors': 15, 'weights': 'distance'})\n",
      "(0.975, 0.09900296612519904, {'n_neighbors': 16, 'weights': 'uniform'})\n",
      "(0.975, 0.07373267889143822, {'n_neighbors': 16, 'weights': 'distance'})\n",
      "(0.975, 0.09900296612519904, {'n_neighbors': 17, 'weights': 'uniform'})\n",
      "(0.975, 0.07373267889143822, {'n_neighbors': 17, 'weights': 'distance'})\n",
      "(0.95, 0.12724180205607036, {'n_neighbors': 18, 'weights': 'uniform'})\n",
      "(0.9666666666666667, 0.07918232927769474, {'n_neighbors': 18, 'weights': 'distance'})\n",
      "(0.9583333333333334, 0.10446386175466817, {'n_neighbors': 19, 'weights': 'uniform'})\n",
      "(0.975, 0.07373267889143822, {'n_neighbors': 19, 'weights': 'distance'})\n",
      "(0.9416666666666667, 0.12392393980641052, {'n_neighbors': 20, 'weights': 'uniform'})\n",
      "(0.9666666666666667, 0.07918232927769474, {'n_neighbors': 20, 'weights': 'distance'})\n",
      "(0.9416666666666667, 0.12392393980641052, {'n_neighbors': 21, 'weights': 'uniform'})\n",
      "(0.9666666666666667, 0.07918232927769474, {'n_neighbors': 21, 'weights': 'distance'})\n",
      "(0.9416666666666667, 0.12392393980641052, {'n_neighbors': 22, 'weights': 'uniform'})\n",
      "(0.9583333333333334, 0.10446386175466817, {'n_neighbors': 22, 'weights': 'distance'})\n",
      "(0.9416666666666667, 0.12392393980641052, {'n_neighbors': 23, 'weights': 'uniform'})\n",
      "(0.9583333333333334, 0.10446386175466817, {'n_neighbors': 23, 'weights': 'distance'})\n",
      "(0.9416666666666667, 0.12392393980641052, {'n_neighbors': 24, 'weights': 'uniform'})\n",
      "(0.9583333333333334, 0.10446386175466817, {'n_neighbors': 24, 'weights': 'distance'})\n",
      "(0.9583333333333334, 0.12832869503058922, {'n_neighbors': 25, 'weights': 'uniform'})\n",
      "(0.9583333333333334, 0.10446386175466817, {'n_neighbors': 25, 'weights': 'distance'})\n",
      "(0.9416666666666667, 0.12392393980641052, {'n_neighbors': 26, 'weights': 'uniform'})\n",
      "(0.9583333333333334, 0.10446386175466817, {'n_neighbors': 26, 'weights': 'distance'})\n",
      "(0.9416666666666667, 0.12493865738700778, {'n_neighbors': 27, 'weights': 'uniform'})\n",
      "(0.9583333333333334, 0.10446386175466817, {'n_neighbors': 27, 'weights': 'distance'})\n",
      "(0.9333333333333333, 0.13972762620115436, {'n_neighbors': 28, 'weights': 'uniform'})\n",
      "(0.9416666666666667, 0.12392393980641052, {'n_neighbors': 28, 'weights': 'distance'})\n",
      "(0.925, 0.1335361012306797, {'n_neighbors': 29, 'weights': 'uniform'})\n",
      "(0.9416666666666667, 0.12392393980641052, {'n_neighbors': 29, 'weights': 'distance'})\n",
      "(0.9333333333333333, 0.13972762620115436, {'n_neighbors': 30, 'weights': 'uniform'})\n",
      "(0.95, 0.12724180205607036, {'n_neighbors': 30, 'weights': 'distance'})\n"
     ]
    }
   ],
   "source": [
    "# Note that the same score was achieved with muliple different parameters.\n",
    "for top_score in top_scores:\n",
    "    print(top_score)"
   ]
  },
  {
   "cell_type": "markdown",
   "metadata": {},
   "source": [
    "### Nested Cross Validation with GridSearchCV\n",
    "\n",
    "To make sure that the GridSearchCV has a chance to see all of the available training data, while still holding out a test set, we can perform nested cross validation with GridSearchCV.\n",
    "\n",
    "All we have to do, is call cross_val_score, with the GridSearchCV as the model."
   ]
  },
  {
   "cell_type": "code",
   "execution_count": 109,
   "metadata": {},
   "outputs": [
    {
     "name": "stdout",
     "output_type": "stream",
     "text": [
      "Cross-validation scores: [1.         0.93333333 1.         1.         0.86666667 0.93333333\n",
      " 0.93333333 1.         1.         1.        ]\n",
      "Mean score: 0.9666666666666668\n"
     ]
    }
   ],
   "source": [
    "scores = cross_val_score(GridSearchCV(KNeighborsClassifier(), param_grid, cv=10, scoring='accuracy', return_train_score=True ), X, y, cv=10)\n",
    "print(f'Cross-validation scores: {scores}')\n",
    "print(f'Mean score: {scores.mean()}')"
   ]
  },
  {
   "cell_type": "markdown",
   "metadata": {},
   "source": [
    "What the above tells us is that KNN can achieve 96.7% accuracy  on the iris dataset."
   ]
  },
  {
   "cell_type": "markdown",
   "metadata": {},
   "source": [
    "## Using the best parameters to make predictions"
   ]
  },
  {
   "cell_type": "code",
   "execution_count": 110,
   "metadata": {},
   "outputs": [
    {
     "data": {
      "text/plain": [
       "array([1])"
      ]
     },
     "execution_count": 110,
     "metadata": {},
     "output_type": "execute_result"
    }
   ],
   "source": [
    "# train your model using all data and the best known parameters\n",
    "knn = KNeighborsClassifier(n_neighbors=13, weights='uniform')\n",
    "knn.fit(X, y)\n",
    "\n",
    "# make a prediction on out-of-sample data\n",
    "knn.predict([[3, 5, 4, 2]])"
   ]
  },
  {
   "cell_type": "code",
   "execution_count": 111,
   "metadata": {},
   "outputs": [
    {
     "data": {
      "text/plain": [
       "array([1])"
      ]
     },
     "execution_count": 111,
     "metadata": {},
     "output_type": "execute_result"
    }
   ],
   "source": [
    "# shortcut: GridSearchCV automatically refits the best model using all of the data\n",
    "grid.predict([[3, 5, 4, 2]])"
   ]
  },
  {
   "cell_type": "markdown",
   "metadata": {},
   "source": [
    "## Reducing computational expense using `RandomizedSearchCV`"
   ]
  },
  {
   "cell_type": "markdown",
   "metadata": {},
   "source": [
    "- Searching many different parameters at once may be computationally infeasible\n",
    "- `RandomizedSearchCV` searches a subset of the parameters, and you control the computational \"budget\""
   ]
  },
  {
   "cell_type": "code",
   "execution_count": 112,
   "metadata": {},
   "outputs": [],
   "source": [
    "from sklearn.model_selection import RandomizedSearchCV"
   ]
  },
  {
   "cell_type": "code",
   "execution_count": 113,
   "metadata": {},
   "outputs": [],
   "source": [
    "# specify \"parameter distributions\" rather than a \"parameter grid\"\n",
    "param_dist = dict(n_neighbors=k_range, weights=weight_options)"
   ]
  },
  {
   "cell_type": "markdown",
   "metadata": {},
   "source": [
    "- **Important:** Specify a continuous distribution (rather than a list of values) for any continous parameters"
   ]
  },
  {
   "cell_type": "code",
   "execution_count": 114,
   "metadata": {},
   "outputs": [
    {
     "name": "stderr",
     "output_type": "stream",
     "text": [
      "/Users/patryan/Development/mygithub/machinelearning101/venv/lib/python3.6/site-packages/sklearn/model_selection/_search.py:761: DeprecationWarning: The grid_scores_ attribute was deprecated in version 0.18 in favor of the more elaborate cv_results_ attribute. The grid_scores_ attribute will not be available from 0.20\n",
      "  DeprecationWarning)\n"
     ]
    },
    {
     "data": {
      "text/plain": [
       "[mean: 0.97333, std: 0.03266, params: {'weights': 'distance', 'n_neighbors': 16},\n",
       " mean: 0.96667, std: 0.03333, params: {'weights': 'uniform', 'n_neighbors': 22},\n",
       " mean: 0.98000, std: 0.03055, params: {'weights': 'uniform', 'n_neighbors': 18},\n",
       " mean: 0.96667, std: 0.04472, params: {'weights': 'uniform', 'n_neighbors': 27},\n",
       " mean: 0.95333, std: 0.04269, params: {'weights': 'uniform', 'n_neighbors': 29},\n",
       " mean: 0.97333, std: 0.03266, params: {'weights': 'distance', 'n_neighbors': 10},\n",
       " mean: 0.96667, std: 0.04472, params: {'weights': 'distance', 'n_neighbors': 22},\n",
       " mean: 0.97333, std: 0.04422, params: {'weights': 'uniform', 'n_neighbors': 14},\n",
       " mean: 0.97333, std: 0.04422, params: {'weights': 'distance', 'n_neighbors': 12},\n",
       " mean: 0.97333, std: 0.03266, params: {'weights': 'uniform', 'n_neighbors': 15}]"
      ]
     },
     "execution_count": 114,
     "metadata": {},
     "output_type": "execute_result"
    }
   ],
   "source": [
    "# n_iter controls the number of searches\n",
    "rand = RandomizedSearchCV(knn, param_dist, cv=10, scoring='accuracy', n_iter=10, random_state=5)\n",
    "rand.fit(X, y)\n",
    "rand.grid_scores_"
   ]
  },
  {
   "cell_type": "code",
   "execution_count": 115,
   "metadata": {},
   "outputs": [
    {
     "name": "stdout",
     "output_type": "stream",
     "text": [
      "0.98\n",
      "{'weights': 'uniform', 'n_neighbors': 18}\n"
     ]
    }
   ],
   "source": [
    "# examine the best model\n",
    "print(rand.best_score_)\n",
    "print(rand.best_params_)"
   ]
  },
  {
   "cell_type": "code",
   "execution_count": 116,
   "metadata": {},
   "outputs": [
    {
     "name": "stdout",
     "output_type": "stream",
     "text": [
      "[0.973, 0.973, 0.98, 0.98, 0.98, 0.973, 0.98, 0.98, 0.98, 0.98, 0.98, 0.973, 0.973, 0.98, 0.973, 0.98, 0.973, 0.98, 0.98, 0.98]\n"
     ]
    }
   ],
   "source": [
    "# run RandomizedSearchCV 20 times (with n_iter=10) and record the best score\n",
    "best_scores = []\n",
    "for _ in range(20):\n",
    "    rand = RandomizedSearchCV(knn, param_dist, cv=10, scoring='accuracy', n_iter=10)\n",
    "    rand.fit(X, y)\n",
    "    best_scores.append(round(rand.best_score_, 3))\n",
    "print(best_scores)"
   ]
  },
  {
   "cell_type": "markdown",
   "metadata": {},
   "source": [
    "## Resources\n",
    "\n",
    "- scikit-learn documentation: [Grid search](http://scikit-learn.org/stable/modules/grid_search.html), [GridSearchCV](http://scikit-learn.org/stable/modules/generated/sklearn.grid_search.GridSearchCV.html), [RandomizedSearchCV](http://scikit-learn.org/stable/modules/generated/sklearn.grid_search.RandomizedSearchCV.html)\n",
    "- Timed example: [Comparing randomized search and grid search](http://scikit-learn.org/stable/auto_examples/model_selection/randomized_search.html)\n",
    "- scikit-learn workshop by Andreas Mueller: [Video segment on randomized search](https://youtu.be/0wUF_Ov8b0A?t=17m38s) (3 minutes), [related notebook](https://github.com/amueller/pydata-nyc-advanced-sklearn/blob/master/Chapter%203%20-%20Randomized%20Hyper%20Parameter%20Search.ipynb)\n",
    "- Paper by Yoshua Bengio: [Random Search for Hyper-Parameter Optimization](http://www.jmlr.org/papers/volume13/bergstra12a/bergstra12a.pdf)"
   ]
  }
 ],
 "metadata": {
  "kernelspec": {
   "display_name": "Python 3",
   "language": "python",
   "name": "python3"
  },
  "language_info": {
   "codemirror_mode": {
    "name": "ipython",
    "version": 3
   },
   "file_extension": ".py",
   "mimetype": "text/x-python",
   "name": "python",
   "nbconvert_exporter": "python",
   "pygments_lexer": "ipython3",
   "version": "3.7.0"
  }
 },
 "nbformat": 4,
 "nbformat_minor": 1
}
