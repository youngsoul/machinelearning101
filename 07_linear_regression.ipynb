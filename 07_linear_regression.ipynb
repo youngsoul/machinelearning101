{
 "cells": [
  {
   "cell_type": "markdown",
   "metadata": {},
   "source": [
    "# Data science pipeline: pandas, seaborn, scikit-learn\n",
    "*From the video series: [Introduction to machine learning with scikit-learn](https://github.com/justmarkham/scikit-learn-videos)*\n",
    "\n",
    "\n",
    "# TODO: \n",
    "look at: https://github.com/justmarkham/DAT5/blob/master/notebooks/09_linear_regression.ipynb\n",
    "\n",
    "- incorporate some of this information\n",
    "- add add more information from python data science handbook\n",
    "- add old faithful example\n"
   ]
  },
  {
   "cell_type": "markdown",
   "metadata": {},
   "source": [
    "## Agenda\n",
    "\n",
    "- How do I use the **pandas library** to read data into Python?\n",
    "- How do I use the **seaborn library** to visualize data?\n",
    "- What is **linear regression**, and how does it work?\n",
    "- How do I **train and interpret** a linear regression model in scikit-learn?\n",
    "- What are some **evaluation metrics** for regression problems?\n",
    "- How do I choose **which features to include** in my model?"
   ]
  },
  {
   "cell_type": "markdown",
   "metadata": {},
   "source": [
    "## Types of supervised learning\n",
    "\n",
    "- **Classification:** Predict a categorical response\n",
    "- **Regression:** Predict a continuous response"
   ]
  },
  {
   "cell_type": "markdown",
   "metadata": {},
   "source": [
    "## Reading data using pandas\n",
    "\n",
    "**Pandas:** popular Python library for data exploration, manipulation, and analysis\n",
    "\n",
    "- Anaconda users: pandas is already installed\n",
    "- Other users: [installation instructions](http://pandas.pydata.org/pandas-docs/stable/install.html)"
   ]
  },
  {
   "cell_type": "code",
   "execution_count": 2,
   "metadata": {},
   "outputs": [],
   "source": [
    "# conventional way to import pandas\n",
    "import pandas as pd"
   ]
  },
  {
   "cell_type": "code",
   "execution_count": 3,
   "metadata": {},
   "outputs": [
    {
     "data": {
      "text/html": [
       "<div>\n",
       "<style scoped>\n",
       "    .dataframe tbody tr th:only-of-type {\n",
       "        vertical-align: middle;\n",
       "    }\n",
       "\n",
       "    .dataframe tbody tr th {\n",
       "        vertical-align: top;\n",
       "    }\n",
       "\n",
       "    .dataframe thead th {\n",
       "        text-align: right;\n",
       "    }\n",
       "</style>\n",
       "<table border=\"1\" class=\"dataframe\">\n",
       "  <thead>\n",
       "    <tr style=\"text-align: right;\">\n",
       "      <th></th>\n",
       "      <th>TV</th>\n",
       "      <th>Radio</th>\n",
       "      <th>Newspaper</th>\n",
       "      <th>Sales</th>\n",
       "    </tr>\n",
       "  </thead>\n",
       "  <tbody>\n",
       "    <tr>\n",
       "      <th>1</th>\n",
       "      <td>230.1</td>\n",
       "      <td>37.8</td>\n",
       "      <td>69.2</td>\n",
       "      <td>22.1</td>\n",
       "    </tr>\n",
       "    <tr>\n",
       "      <th>2</th>\n",
       "      <td>44.5</td>\n",
       "      <td>39.3</td>\n",
       "      <td>45.1</td>\n",
       "      <td>10.4</td>\n",
       "    </tr>\n",
       "    <tr>\n",
       "      <th>3</th>\n",
       "      <td>17.2</td>\n",
       "      <td>45.9</td>\n",
       "      <td>69.3</td>\n",
       "      <td>9.3</td>\n",
       "    </tr>\n",
       "    <tr>\n",
       "      <th>4</th>\n",
       "      <td>151.5</td>\n",
       "      <td>41.3</td>\n",
       "      <td>58.5</td>\n",
       "      <td>18.5</td>\n",
       "    </tr>\n",
       "    <tr>\n",
       "      <th>5</th>\n",
       "      <td>180.8</td>\n",
       "      <td>10.8</td>\n",
       "      <td>58.4</td>\n",
       "      <td>12.9</td>\n",
       "    </tr>\n",
       "  </tbody>\n",
       "</table>\n",
       "</div>"
      ],
      "text/plain": [
       "      TV  Radio  Newspaper  Sales\n",
       "1  230.1   37.8       69.2   22.1\n",
       "2   44.5   39.3       45.1   10.4\n",
       "3   17.2   45.9       69.3    9.3\n",
       "4  151.5   41.3       58.5   18.5\n",
       "5  180.8   10.8       58.4   12.9"
      ]
     },
     "execution_count": 3,
     "metadata": {},
     "output_type": "execute_result"
    }
   ],
   "source": [
    "# read CSV file directly from a URL and save the results\n",
    "data = pd.read_csv('./data/Advertising.csv', index_col=0)\n",
    "\n",
    "# display the first 5 rows\n",
    "data.head()"
   ]
  },
  {
   "cell_type": "markdown",
   "metadata": {},
   "source": [
    "Primary object types:\n",
    "\n",
    "- **DataFrame:** rows and columns (like a spreadsheet)\n",
    "- **Series:** a single column"
   ]
  },
  {
   "cell_type": "code",
   "execution_count": 4,
   "metadata": {},
   "outputs": [
    {
     "data": {
      "text/html": [
       "<div>\n",
       "<style scoped>\n",
       "    .dataframe tbody tr th:only-of-type {\n",
       "        vertical-align: middle;\n",
       "    }\n",
       "\n",
       "    .dataframe tbody tr th {\n",
       "        vertical-align: top;\n",
       "    }\n",
       "\n",
       "    .dataframe thead th {\n",
       "        text-align: right;\n",
       "    }\n",
       "</style>\n",
       "<table border=\"1\" class=\"dataframe\">\n",
       "  <thead>\n",
       "    <tr style=\"text-align: right;\">\n",
       "      <th></th>\n",
       "      <th>TV</th>\n",
       "      <th>Radio</th>\n",
       "      <th>Newspaper</th>\n",
       "      <th>Sales</th>\n",
       "    </tr>\n",
       "  </thead>\n",
       "  <tbody>\n",
       "    <tr>\n",
       "      <th>196</th>\n",
       "      <td>38.2</td>\n",
       "      <td>3.7</td>\n",
       "      <td>13.8</td>\n",
       "      <td>7.6</td>\n",
       "    </tr>\n",
       "    <tr>\n",
       "      <th>197</th>\n",
       "      <td>94.2</td>\n",
       "      <td>4.9</td>\n",
       "      <td>8.1</td>\n",
       "      <td>9.7</td>\n",
       "    </tr>\n",
       "    <tr>\n",
       "      <th>198</th>\n",
       "      <td>177.0</td>\n",
       "      <td>9.3</td>\n",
       "      <td>6.4</td>\n",
       "      <td>12.8</td>\n",
       "    </tr>\n",
       "    <tr>\n",
       "      <th>199</th>\n",
       "      <td>283.6</td>\n",
       "      <td>42.0</td>\n",
       "      <td>66.2</td>\n",
       "      <td>25.5</td>\n",
       "    </tr>\n",
       "    <tr>\n",
       "      <th>200</th>\n",
       "      <td>232.1</td>\n",
       "      <td>8.6</td>\n",
       "      <td>8.7</td>\n",
       "      <td>13.4</td>\n",
       "    </tr>\n",
       "  </tbody>\n",
       "</table>\n",
       "</div>"
      ],
      "text/plain": [
       "        TV  Radio  Newspaper  Sales\n",
       "196   38.2    3.7       13.8    7.6\n",
       "197   94.2    4.9        8.1    9.7\n",
       "198  177.0    9.3        6.4   12.8\n",
       "199  283.6   42.0       66.2   25.5\n",
       "200  232.1    8.6        8.7   13.4"
      ]
     },
     "execution_count": 4,
     "metadata": {},
     "output_type": "execute_result"
    }
   ],
   "source": [
    "# display the last 5 rows\n",
    "data.tail()"
   ]
  },
  {
   "cell_type": "code",
   "execution_count": 5,
   "metadata": {},
   "outputs": [
    {
     "data": {
      "text/plain": [
       "(200, 4)"
      ]
     },
     "execution_count": 5,
     "metadata": {},
     "output_type": "execute_result"
    }
   ],
   "source": [
    "# check the shape of the DataFrame (rows, columns)\n",
    "data.shape"
   ]
  },
  {
   "cell_type": "markdown",
   "metadata": {},
   "source": [
    "What are the features?\n",
    "- **TV:** advertising dollars spent on TV for a single product in a given market (in thousands of dollars)\n",
    "- **Radio:** advertising dollars spent on Radio\n",
    "- **Newspaper:** advertising dollars spent on Newspaper\n",
    "\n",
    "What is the response?\n",
    "- **Sales:** sales of a single product in a given market (in thousands of items)\n",
    "\n",
    "What else do we know?\n",
    "- Because the response variable is continuous, this is a **regression** problem.\n",
    "- There are 200 **observations** (represented by the rows), and each observation is a single market."
   ]
  },
  {
   "cell_type": "markdown",
   "metadata": {},
   "source": [
    "## Visualizing data using seaborn\n",
    "\n",
    "**Seaborn:** Python library for statistical data visualization built on top of Matplotlib\n",
    "\n",
    "- Anaconda users: run **`conda install seaborn`** from the command line\n",
    "- Other users: [installation instructions](http://stanford.edu/~mwaskom/software/seaborn/installing.html)"
   ]
  },
  {
   "cell_type": "code",
   "execution_count": 6,
   "metadata": {},
   "outputs": [],
   "source": [
    "# conventional way to import seaborn\n",
    "import seaborn as sns\n",
    "\n",
    "# allow plots to appear within the notebook\n",
    "%matplotlib inline"
   ]
  },
  {
   "cell_type": "code",
   "execution_count": 7,
   "metadata": {},
   "outputs": [
    {
     "data": {
      "text/plain": [
       "<seaborn.axisgrid.PairGrid at 0x10a5d3ac8>"
      ]
     },
     "execution_count": 7,
     "metadata": {},
     "output_type": "execute_result"
    },
    {
     "data": {
      "image/png": "[encoded data removed]",
      "text/plain": [
       "<Figure size 1058.4x504 with 3 Axes>"
      ]
     },
     "metadata": {},
     "output_type": "display_data"
    }
   ],
   "source": [
    "# visualize the relationship between the features and the response using scatterplots\n",
    "sns.pairplot(data, x_vars=['TV','Radio','Newspaper'], y_vars='Sales', size=7, aspect=0.7, kind='reg')"
   ]
  },
  {
   "cell_type": "markdown",
   "metadata": {},
   "source": [
    "## Linear regression\n",
    "\n",
    "**Pros:** fast, no tuning required, highly interpretable, well-understood\n",
    "\n",
    "**Cons:** unlikely to produce the best predictive accuracy (presumes a linear relationship between the features and response)"
   ]
  },
  {
   "cell_type": "markdown",
   "metadata": {},
   "source": [
    "### Form of linear regression\n",
    "\n",
    "$y = \\beta_0 + \\beta_1x_1 + \\beta_2x_2 + ... + \\beta_nx_n$\n",
    "\n",
    "- $y$ is the response\n",
    "- $\\beta_0$ is the intercept\n",
    "- $\\beta_1$ is the coefficient for $x_1$ (the first feature)\n",
    "- $\\beta_n$ is the coefficient for $x_n$ (the nth feature)\n",
    "\n",
    "In this case:\n",
    "\n",
    "$y = \\beta_0 + \\beta_1 \\times TV + \\beta_2 \\times Radio + \\beta_3 \\times Newspaper$\n",
    "\n",
    "The $\\beta$ values are called the **model coefficients**. These values are \"learned\" during the model fitting step using the \"least squares\" criterion. Then, the fitted model can be used to make predictions!"
   ]
  },
  {
   "cell_type": "markdown",
   "metadata": {},
   "source": [
    "## Preparing X and y using pandas\n",
    "\n",
    "- scikit-learn expects X (feature matrix) and y (response vector) to be NumPy arrays.\n",
    "- However, pandas is built on top of NumPy.\n",
    "- Thus, X can be a pandas DataFrame and y can be a pandas Series!"
   ]
  },
  {
   "cell_type": "code",
   "execution_count": 8,
   "metadata": {},
   "outputs": [
    {
     "data": {
      "text/html": [
       "<div>\n",
       "<style scoped>\n",
       "    .dataframe tbody tr th:only-of-type {\n",
       "        vertical-align: middle;\n",
       "    }\n",
       "\n",
       "    .dataframe tbody tr th {\n",
       "        vertical-align: top;\n",
       "    }\n",
       "\n",
       "    .dataframe thead th {\n",
       "        text-align: right;\n",
       "    }\n",
       "</style>\n",
       "<table border=\"1\" class=\"dataframe\">\n",
       "  <thead>\n",
       "    <tr style=\"text-align: right;\">\n",
       "      <th></th>\n",
       "      <th>TV</th>\n",
       "      <th>Radio</th>\n",
       "      <th>Newspaper</th>\n",
       "    </tr>\n",
       "  </thead>\n",
       "  <tbody>\n",
       "    <tr>\n",
       "      <th>1</th>\n",
       "      <td>230.1</td>\n",
       "      <td>37.8</td>\n",
       "      <td>69.2</td>\n",
       "    </tr>\n",
       "    <tr>\n",
       "      <th>2</th>\n",
       "      <td>44.5</td>\n",
       "      <td>39.3</td>\n",
       "      <td>45.1</td>\n",
       "    </tr>\n",
       "    <tr>\n",
       "      <th>3</th>\n",
       "      <td>17.2</td>\n",
       "      <td>45.9</td>\n",
       "      <td>69.3</td>\n",
       "    </tr>\n",
       "    <tr>\n",
       "      <th>4</th>\n",
       "      <td>151.5</td>\n",
       "      <td>41.3</td>\n",
       "      <td>58.5</td>\n",
       "    </tr>\n",
       "    <tr>\n",
       "      <th>5</th>\n",
       "      <td>180.8</td>\n",
       "      <td>10.8</td>\n",
       "      <td>58.4</td>\n",
       "    </tr>\n",
       "  </tbody>\n",
       "</table>\n",
       "</div>"
      ],
      "text/plain": [
       "      TV  Radio  Newspaper\n",
       "1  230.1   37.8       69.2\n",
       "2   44.5   39.3       45.1\n",
       "3   17.2   45.9       69.3\n",
       "4  151.5   41.3       58.5\n",
       "5  180.8   10.8       58.4"
      ]
     },
     "execution_count": 8,
     "metadata": {},
     "output_type": "execute_result"
    }
   ],
   "source": [
    "# create a Python list of feature names\n",
    "feature_cols = ['TV', 'Radio', 'Newspaper']\n",
    "\n",
    "# use the list to select a subset of the original DataFrame\n",
    "X = data[feature_cols]\n",
    "\n",
    "# equivalent command to do this in one line\n",
    "X = data[['TV', 'Radio', 'Newspaper']]\n",
    "\n",
    "# print the first 5 rows\n",
    "X.head()"
   ]
  },
  {
   "cell_type": "code",
   "execution_count": 9,
   "metadata": {},
   "outputs": [
    {
     "name": "stdout",
     "output_type": "stream",
     "text": [
      "<class 'pandas.core.frame.DataFrame'>\n",
      "(200, 3)\n"
     ]
    }
   ],
   "source": [
    "# check the type and shape of X\n",
    "print(type(X))\n",
    "print(X.shape)"
   ]
  },
  {
   "cell_type": "code",
   "execution_count": 10,
   "metadata": {},
   "outputs": [
    {
     "data": {
      "text/plain": [
       "1    22.1\n",
       "2    10.4\n",
       "3     9.3\n",
       "4    18.5\n",
       "5    12.9\n",
       "Name: Sales, dtype: float64"
      ]
     },
     "execution_count": 10,
     "metadata": {},
     "output_type": "execute_result"
    }
   ],
   "source": [
    "# select a Series from the DataFrame\n",
    "y = data['Sales']\n",
    "\n",
    "# equivalent command that works if there are no spaces in the column name\n",
    "y = data.Sales\n",
    "\n",
    "# print the first 5 values\n",
    "y.head()"
   ]
  },
  {
   "cell_type": "code",
   "execution_count": 11,
   "metadata": {},
   "outputs": [
    {
     "name": "stdout",
     "output_type": "stream",
     "text": [
      "<class 'pandas.core.series.Series'>\n",
      "(200,)\n"
     ]
    }
   ],
   "source": [
    "# check the type and shape of y\n",
    "print(type(y))\n",
    "print(y.shape)"
   ]
  },
  {
   "cell_type": "markdown",
   "metadata": {},
   "source": [
    "## Splitting X and y into training and testing sets"
   ]
  },
  {
   "cell_type": "code",
   "execution_count": 12,
   "metadata": {},
   "outputs": [],
   "source": [
    "from sklearn.model_selection import train_test_split\n",
    "X_train, X_test, y_train, y_test = train_test_split(X, y, random_state=1)"
   ]
  },
  {
   "cell_type": "code",
   "execution_count": 13,
   "metadata": {},
   "outputs": [
    {
     "name": "stdout",
     "output_type": "stream",
     "text": [
      "(150, 3)\n",
      "(150,)\n",
      "(50, 3)\n",
      "(50,)\n"
     ]
    }
   ],
   "source": [
    "# default split is 75% for training and 25% for testing\n",
    "print(X_train.shape)\n",
    "print(y_train.shape)\n",
    "print(X_test.shape)\n",
    "print(y_test.shape)"
   ]
  },
  {
   "cell_type": "markdown",
   "metadata": {},
   "source": [
    "## Linear regression in scikit-learn"
   ]
  },
  {
   "cell_type": "code",
   "execution_count": 14,
   "metadata": {},
   "outputs": [
    {
     "name": "stderr",
     "output_type": "stream",
     "text": [
      "/Users/patryan/Development/mygithub/machinelearning101/venv/lib/python3.6/site-packages/scipy/linalg/basic.py:1226: RuntimeWarning: internal gelsd driver lwork query error, required iwork dimension not returned. This is likely the result of LAPACK bug 0038, fixed in LAPACK 3.2.2 (released July 21, 2010). Falling back to 'gelss' driver.\n",
      "  warnings.warn(mesg, RuntimeWarning)\n"
     ]
    },
    {
     "data": {
      "text/plain": [
       "LinearRegression(copy_X=True, fit_intercept=True, n_jobs=1, normalize=False)"
      ]
     },
     "execution_count": 14,
     "metadata": {},
     "output_type": "execute_result"
    }
   ],
   "source": [
    "# import model\n",
    "from sklearn.linear_model import LinearRegression\n",
    "\n",
    "# instantiate\n",
    "linreg = LinearRegression()\n",
    "\n",
    "# fit the model to the training data (learn the coefficients)\n",
    "linreg.fit(X_train, y_train)"
   ]
  },
  {
   "cell_type": "markdown",
   "metadata": {},
   "source": [
    "### Interpreting model coefficients"
   ]
  },
  {
   "cell_type": "code",
   "execution_count": 15,
   "metadata": {},
   "outputs": [
    {
     "name": "stdout",
     "output_type": "stream",
     "text": [
      "2.8769666223179335\n",
      "[0.04656457 0.17915812 0.00345046]\n"
     ]
    }
   ],
   "source": [
    "# print the intercept and coefficients\n",
    "print(linreg.intercept_)\n",
    "print(linreg.coef_)"
   ]
  },
  {
   "cell_type": "code",
   "execution_count": 16,
   "metadata": {},
   "outputs": [
    {
     "data": {
      "text/plain": [
       "[('TV', 0.04656456787415027),\n",
       " ('Radio', 0.17915812245088833),\n",
       " ('Newspaper', 0.0034504647111804365)]"
      ]
     },
     "execution_count": 16,
     "metadata": {},
     "output_type": "execute_result"
    }
   ],
   "source": [
    "# pair the feature names with the coefficients\n",
    "list(zip(feature_cols, linreg.coef_))"
   ]
  },
  {
   "cell_type": "markdown",
   "metadata": {},
   "source": [
    "$$y = 2.88 + 0.0466 \\times TV + 0.179 \\times Radio + 0.00345 \\times Newspaper$$\n",
    "\n",
    "How do we interpret the **TV coefficient** (0.0466)?\n",
    "\n",
    "- For a given amount of Radio and Newspaper ad spending, **a \"unit\" increase in TV ad spending** is associated with a **0.0466 \"unit\" increase in Sales**.\n",
    "- Or more clearly: For a given amount of Radio and Newspaper ad spending, **an additional $1,000 spent on TV ads** is associated with an **increase in sales of 46.6 items**.\n",
    "\n",
    "Important notes:\n",
    "\n",
    "- This is a statement of **association**, not **causation**.\n",
    "- If an increase in TV ad spending was associated with a **decrease** in sales, $\\beta_1$ would be **negative**."
   ]
  },
  {
   "cell_type": "markdown",
   "metadata": {},
   "source": [
    "### Making predictions"
   ]
  },
  {
   "cell_type": "code",
   "execution_count": 17,
   "metadata": {},
   "outputs": [],
   "source": [
    "# make predictions on the testing set\n",
    "y_pred = linreg.predict(X_test)"
   ]
  },
  {
   "cell_type": "markdown",
   "metadata": {},
   "source": [
    "We need an **evaluation metric** in order to compare our predictions with the actual values!"
   ]
  },
  {
   "cell_type": "markdown",
   "metadata": {},
   "source": [
    "## Model evaluation metrics for regression\n",
    "\n",
    "Evaluation metrics for classification problems, such as **accuracy**, are not useful for regression problems. Instead, we need evaluation metrics designed for comparing continuous values.\n",
    "\n",
    "Let's create some example numeric predictions, and calculate **three common evaluation metrics** for regression problems:"
   ]
  },
  {
   "cell_type": "code",
   "execution_count": 18,
   "metadata": {},
   "outputs": [],
   "source": [
    "# define true and predicted response values\n",
    "true = [100, 50, 30, 20]\n",
    "pred = [90, 50, 50, 30]"
   ]
  },
  {
   "cell_type": "markdown",
   "metadata": {},
   "source": [
    "**Mean Absolute Error** (MAE) is the mean of the absolute value of the errors:\n",
    "\n",
    "$$\\frac 1n\\sum_{i=1}^n|y_i-\\hat{y}_i|$$"
   ]
  },
  {
   "cell_type": "code",
   "execution_count": 19,
   "metadata": {},
   "outputs": [
    {
     "name": "stdout",
     "output_type": "stream",
     "text": [
      "10.0\n",
      "10.0\n"
     ]
    }
   ],
   "source": [
    "# calculate MAE by hand\n",
    "print((10 + 0 + 20 + 10)/4.)\n",
    "\n",
    "# calculate MAE using scikit-learn\n",
    "from sklearn import metrics\n",
    "print(metrics.mean_absolute_error(true, pred))"
   ]
  },
  {
   "cell_type": "markdown",
   "metadata": {},
   "source": [
    "**Mean Squared Error** (MSE) is the mean of the squared errors:\n",
    "\n",
    "$$\\frac 1n\\sum_{i=1}^n(y_i-\\hat{y}_i)^2$$"
   ]
  },
  {
   "cell_type": "code",
   "execution_count": 20,
   "metadata": {},
   "outputs": [
    {
     "name": "stdout",
     "output_type": "stream",
     "text": [
      "150.0\n",
      "150.0\n"
     ]
    }
   ],
   "source": [
    "# calculate MSE by hand\n",
    "print((10**2 + 0**2 + 20**2 + 10**2)/4.)\n",
    "\n",
    "# calculate MSE using scikit-learn\n",
    "print(metrics.mean_squared_error(true, pred))"
   ]
  },
  {
   "cell_type": "markdown",
   "metadata": {},
   "source": [
    "**Root Mean Squared Error** (RMSE) is the square root of the mean of the squared errors:\n",
    "\n",
    "$$\\sqrt{\\frac 1n\\sum_{i=1}^n(y_i-\\hat{y}_i)^2}$$"
   ]
  },
  {
   "cell_type": "code",
   "execution_count": 21,
   "metadata": {},
   "outputs": [
    {
     "name": "stdout",
     "output_type": "stream",
     "text": [
      "12.24744871391589\n",
      "12.24744871391589\n"
     ]
    }
   ],
   "source": [
    "# calculate RMSE by hand\n",
    "import numpy as np\n",
    "print(np.sqrt((10**2 + 0**2 + 20**2 + 10**2)/4.))\n",
    "\n",
    "# calculate RMSE using scikit-learn\n",
    "print(np.sqrt(metrics.mean_squared_error(true, pred)))"
   ]
  },
  {
   "cell_type": "markdown",
   "metadata": {},
   "source": [
    "Comparing these metrics:\n",
    "\n",
    "- **MAE** is the easiest to understand, because it's the average error.\n",
    "- **MSE** is more popular than MAE, because MSE \"punishes\" larger errors.\n",
    "- **RMSE** is even more popular than MSE, because RMSE is interpretable in the \"y\" units."
   ]
  },
  {
   "cell_type": "markdown",
   "metadata": {},
   "source": [
    "### Computing the RMSE for our Sales predictions"
   ]
  },
  {
   "cell_type": "code",
   "execution_count": 22,
   "metadata": {},
   "outputs": [
    {
     "name": "stdout",
     "output_type": "stream",
     "text": [
      "1.404651423032896\n"
     ]
    }
   ],
   "source": [
    "print(np.sqrt(metrics.mean_squared_error(y_test, y_pred)))"
   ]
  },
  {
   "cell_type": "markdown",
   "metadata": {},
   "source": [
    "## Feature selection\n",
    "\n",
    "Does **Newspaper** \"belong\" in our model? In other words, does it improve the quality of our predictions?\n",
    "\n",
    "Let's **remove it** from the model and check the RMSE!"
   ]
  },
  {
   "cell_type": "code",
   "execution_count": 23,
   "metadata": {},
   "outputs": [
    {
     "name": "stdout",
     "output_type": "stream",
     "text": [
      "1.3879034699382893\n"
     ]
    }
   ],
   "source": [
    "# create a Python list of feature names\n",
    "feature_cols = ['TV', 'Radio']\n",
    "\n",
    "# use the list to select a subset of the original DataFrame\n",
    "X = data[feature_cols]\n",
    "\n",
    "# select a Series from the DataFrame\n",
    "y = data.Sales\n",
    "\n",
    "# split into training and testing sets\n",
    "X_train, X_test, y_train, y_test = train_test_split(X, y, random_state=1)\n",
    "\n",
    "# fit the model to the training data (learn the coefficients)\n",
    "linreg.fit(X_train, y_train)\n",
    "\n",
    "# make predictions on the testing set\n",
    "y_pred = linreg.predict(X_test)\n",
    "\n",
    "# compute the RMSE of our predictions\n",
    "print(np.sqrt(metrics.mean_squared_error(y_test, y_pred)))"
   ]
  },
  {
   "cell_type": "markdown",
   "metadata": {},
   "source": [
    "The RMSE **decreased** when we removed Newspaper from the model. (Error is something we want to minimize, so **a lower number for RMSE is better**.) Thus, it is unlikely that this feature is useful for predicting Sales, and should be removed from the model."
   ]
  },
  {
   "cell_type": "markdown",
   "metadata": {},
   "source": [
    "## Cross-validation example: feature selection"
   ]
  },
  {
   "cell_type": "markdown",
   "metadata": {},
   "source": [
    "**Goal**: Select whether the Newspaper feature should be included in the linear regression model on the advertising dataset using Cross Validation."
   ]
  },
  {
   "cell_type": "code",
   "execution_count": 24,
   "metadata": {},
   "outputs": [],
   "source": [
    "from sklearn.model_selection import cross_val_score"
   ]
  },
  {
   "cell_type": "code",
   "execution_count": 25,
   "metadata": {},
   "outputs": [
    {
     "data": {
      "text/html": [
       "<div>\n",
       "<style scoped>\n",
       "    .dataframe tbody tr th:only-of-type {\n",
       "        vertical-align: middle;\n",
       "    }\n",
       "\n",
       "    .dataframe tbody tr th {\n",
       "        vertical-align: top;\n",
       "    }\n",
       "\n",
       "    .dataframe thead th {\n",
       "        text-align: right;\n",
       "    }\n",
       "</style>\n",
       "<table border=\"1\" class=\"dataframe\">\n",
       "  <thead>\n",
       "    <tr style=\"text-align: right;\">\n",
       "      <th></th>\n",
       "      <th>TV</th>\n",
       "      <th>Radio</th>\n",
       "      <th>Newspaper</th>\n",
       "      <th>Sales</th>\n",
       "    </tr>\n",
       "  </thead>\n",
       "  <tbody>\n",
       "    <tr>\n",
       "      <th>1</th>\n",
       "      <td>230.1</td>\n",
       "      <td>37.8</td>\n",
       "      <td>69.2</td>\n",
       "      <td>22.1</td>\n",
       "    </tr>\n",
       "    <tr>\n",
       "      <th>2</th>\n",
       "      <td>44.5</td>\n",
       "      <td>39.3</td>\n",
       "      <td>45.1</td>\n",
       "      <td>10.4</td>\n",
       "    </tr>\n",
       "    <tr>\n",
       "      <th>3</th>\n",
       "      <td>17.2</td>\n",
       "      <td>45.9</td>\n",
       "      <td>69.3</td>\n",
       "      <td>9.3</td>\n",
       "    </tr>\n",
       "    <tr>\n",
       "      <th>4</th>\n",
       "      <td>151.5</td>\n",
       "      <td>41.3</td>\n",
       "      <td>58.5</td>\n",
       "      <td>18.5</td>\n",
       "    </tr>\n",
       "    <tr>\n",
       "      <th>5</th>\n",
       "      <td>180.8</td>\n",
       "      <td>10.8</td>\n",
       "      <td>58.4</td>\n",
       "      <td>12.9</td>\n",
       "    </tr>\n",
       "  </tbody>\n",
       "</table>\n",
       "</div>"
      ],
      "text/plain": [
       "      TV  Radio  Newspaper  Sales\n",
       "1  230.1   37.8       69.2   22.1\n",
       "2   44.5   39.3       45.1   10.4\n",
       "3   17.2   45.9       69.3    9.3\n",
       "4  151.5   41.3       58.5   18.5\n",
       "5  180.8   10.8       58.4   12.9"
      ]
     },
     "execution_count": 25,
     "metadata": {},
     "output_type": "execute_result"
    }
   ],
   "source": [
    "data.head()"
   ]
  },
  {
   "cell_type": "code",
   "execution_count": 26,
   "metadata": {},
   "outputs": [],
   "source": [
    "# create a Python list of three feature names\n",
    "feature_cols = ['TV', 'Radio', 'Newspaper']\n",
    "\n",
    "# use the list to select a subset of the DataFrame (X)\n",
    "X = data[feature_cols]\n",
    "\n",
    "# select the Sales column as the response (y)\n",
    "y = data.Sales"
   ]
  },
  {
   "cell_type": "code",
   "execution_count": 27,
   "metadata": {},
   "outputs": [
    {
     "name": "stdout",
     "output_type": "stream",
     "text": [
      "[-3.56038438 -3.29767522 -2.08943356 -2.82474283 -1.3027754  -1.74163618\n",
      " -8.17338214 -2.11409746 -3.04273109 -2.45281793]\n"
     ]
    }
   ],
   "source": [
    "# 10-fold cross-validation with all three features\n",
    "lm = LinearRegression()\n",
    "scores = cross_val_score(lm, X, y, cv=10, scoring='neg_mean_squared_error')\n",
    "print(scores)"
   ]
  },
  {
   "cell_type": "code",
   "execution_count": 28,
   "metadata": {},
   "outputs": [
    {
     "name": "stdout",
     "output_type": "stream",
     "text": [
      "[3.56038438 3.29767522 2.08943356 2.82474283 1.3027754  1.74163618\n",
      " 8.17338214 2.11409746 3.04273109 2.45281793]\n"
     ]
    }
   ],
   "source": [
    "# fix the sign of MSE scores\n",
    "mse_scores = -scores\n",
    "print(mse_scores)"
   ]
  },
  {
   "cell_type": "code",
   "execution_count": 29,
   "metadata": {},
   "outputs": [
    {
     "name": "stdout",
     "output_type": "stream",
     "text": [
      "[1.88689808 1.81595022 1.44548731 1.68069713 1.14139187 1.31971064\n",
      " 2.85891276 1.45399362 1.7443426  1.56614748]\n"
     ]
    }
   ],
   "source": [
    "# convert from MSE to RMSE\n",
    "rmse_scores = np.sqrt(mse_scores)\n",
    "print(rmse_scores)"
   ]
  },
  {
   "cell_type": "code",
   "execution_count": 30,
   "metadata": {},
   "outputs": [
    {
     "name": "stdout",
     "output_type": "stream",
     "text": [
      "1.6913531708051803\n"
     ]
    }
   ],
   "source": [
    "# calculate the average RMSE\n",
    "print(rmse_scores.mean())"
   ]
  },
  {
   "cell_type": "code",
   "execution_count": 31,
   "metadata": {},
   "outputs": [
    {
     "name": "stdout",
     "output_type": "stream",
     "text": [
      "1.6796748419090768\n"
     ]
    }
   ],
   "source": [
    "# 10-fold cross-validation with two features (excluding Newspaper)\n",
    "feature_cols = ['TV', 'Radio']\n",
    "X = data[feature_cols]\n",
    "print(np.sqrt(-cross_val_score(lm, X, y, cv=10, scoring='neg_mean_squared_error')).mean())"
   ]
  },
  {
   "cell_type": "markdown",
   "metadata": {},
   "source": [
    "### Conclusion:\n",
    "\n",
    "With Newspaper, the RMSE was 1.69 where without Newspaper the RMSE was 1.67.  Since a lower error is better, we would conclude that the model without Newspaper produces more accurate results.\n",
    "\n",
    "This was the same conclusion when using train_test_split, but using cross_val_score to make the feature selection provides a better measure of how that feature performed across the entire training set data.\n"
   ]
  },
  {
   "cell_type": "markdown",
   "metadata": {},
   "source": [
    "# LinearRegression\n",
    "\n",
    "Python Data Science Handbook\n",
    "Jake VanderPlas"
   ]
  },
  {
   "cell_type": "code",
   "execution_count": 32,
   "metadata": {},
   "outputs": [],
   "source": [
    "import numpy as np\n",
    "import matplotlib.pyplot as plt\n",
    "from sklearn.linear_model import LinearRegression\n",
    "%matplotlib inline "
   ]
  },
  {
   "cell_type": "code",
   "execution_count": 33,
   "metadata": {},
   "outputs": [],
   "source": [
    "rng = np.random.RandomState(1)\n",
    "x = 10*rng.rand(50)  # generate 50 random numbers between 0 and 10\n",
    "y = 2*x - 5 + rng.randn(50) # create y with a slope of 2, intercept -5, 50 times with some noise"
   ]
  },
  {
   "cell_type": "code",
   "execution_count": 34,
   "metadata": {},
   "outputs": [
    {
     "data": {
      "text/plain": [
       "numpy.ndarray"
      ]
     },
     "execution_count": 34,
     "metadata": {},
     "output_type": "execute_result"
    }
   ],
   "source": [
    "type(x)"
   ]
  },
  {
   "cell_type": "code",
   "execution_count": 35,
   "metadata": {},
   "outputs": [
    {
     "name": "stdout",
     "output_type": "stream",
     "text": [
      "[4.17022005e+00 7.20324493e+00 1.14374817e-03 3.02332573e+00\n",
      " 1.46755891e+00 9.23385948e-01 1.86260211e+00 3.45560727e+00\n",
      " 3.96767474e+00 5.38816734e+00 4.19194514e+00 6.85219500e+00\n",
      " 2.04452250e+00 8.78117436e+00 2.73875932e-01 6.70467510e+00\n",
      " 4.17304802e+00 5.58689828e+00 1.40386939e+00 1.98101489e+00\n",
      " 8.00744569e+00 9.68261576e+00 3.13424178e+00 6.92322616e+00\n",
      " 8.76389152e+00 8.94606664e+00 8.50442114e-01 3.90547832e-01\n",
      " 1.69830420e+00 8.78142503e+00 9.83468338e-01 4.21107625e+00\n",
      " 9.57889530e+00 5.33165285e+00 6.91877114e+00 3.15515631e+00\n",
      " 6.86500928e+00 8.34625672e+00 1.82882773e-01 7.50144315e+00\n",
      " 9.88861089e+00 7.48165654e+00 2.80443992e+00 7.89279328e+00\n",
      " 1.03226007e+00 4.47893526e+00 9.08595503e+00 2.93614148e+00\n",
      " 2.87775339e+00 1.30028572e+00]\n"
     ]
    }
   ],
   "source": [
    "print(x)"
   ]
  },
  {
   "cell_type": "code",
   "execution_count": 37,
   "metadata": {},
   "outputs": [
    {
     "name": "stdout",
     "output_type": "stream",
     "text": [
      "<class 'numpy.ndarray'>\n"
     ]
    }
   ],
   "source": [
    "x_series = x[:, np.newaxis]\n",
    "print(type(x))"
   ]
  },
  {
   "cell_type": "code",
   "execution_count": 38,
   "metadata": {},
   "outputs": [
    {
     "data": {
      "text/plain": [
       "<matplotlib.collections.PathCollection at 0x10bce5b38>"
      ]
     },
     "execution_count": 38,
     "metadata": {},
     "output_type": "execute_result"
    },
    {
     "data": {
      "image/png": "[encoded data removed]",
      "text/plain": [
       "<Figure size 432x288 with 1 Axes>"
      ]
     },
     "metadata": {},
     "output_type": "display_data"
    }
   ],
   "source": [
    "plt.scatter(x,y)"
   ]
  },
  {
   "cell_type": "code",
   "execution_count": 39,
   "metadata": {},
   "outputs": [
    {
     "name": "stdout",
     "output_type": "stream",
     "text": [
      "[[ 0.        ]\n",
      " [ 0.01001001]\n",
      " [ 0.02002002]\n",
      " [ 0.03003003]\n",
      " [ 0.04004004]\n",
      " [ 0.05005005]\n",
      " [ 0.06006006]\n",
      " [ 0.07007007]\n",
      " [ 0.08008008]\n",
      " [ 0.09009009]\n",
      " [ 0.1001001 ]\n",
      " [ 0.11011011]\n",
      " [ 0.12012012]\n",
      " [ 0.13013013]\n",
      " [ 0.14014014]\n",
      " [ 0.15015015]\n",
      " [ 0.16016016]\n",
      " [ 0.17017017]\n",
      " [ 0.18018018]\n",
      " [ 0.19019019]\n",
      " [ 0.2002002 ]\n",
      " [ 0.21021021]\n",
      " [ 0.22022022]\n",
      " [ 0.23023023]\n",
      " [ 0.24024024]\n",
      " [ 0.25025025]\n",
      " [ 0.26026026]\n",
      " [ 0.27027027]\n",
      " [ 0.28028028]\n",
      " [ 0.29029029]\n",
      " [ 0.3003003 ]\n",
      " [ 0.31031031]\n",
      " [ 0.32032032]\n",
      " [ 0.33033033]\n",
      " [ 0.34034034]\n",
      " [ 0.35035035]\n",
      " [ 0.36036036]\n",
      " [ 0.37037037]\n",
      " [ 0.38038038]\n",
      " [ 0.39039039]\n",
      " [ 0.4004004 ]\n",
      " [ 0.41041041]\n",
      " [ 0.42042042]\n",
      " [ 0.43043043]\n",
      " [ 0.44044044]\n",
      " [ 0.45045045]\n",
      " [ 0.46046046]\n",
      " [ 0.47047047]\n",
      " [ 0.48048048]\n",
      " [ 0.49049049]\n",
      " [ 0.5005005 ]\n",
      " [ 0.51051051]\n",
      " [ 0.52052052]\n",
      " [ 0.53053053]\n",
      " [ 0.54054054]\n",
      " [ 0.55055055]\n",
      " [ 0.56056056]\n",
      " [ 0.57057057]\n",
      " [ 0.58058058]\n",
      " [ 0.59059059]\n",
      " [ 0.6006006 ]\n",
      " [ 0.61061061]\n",
      " [ 0.62062062]\n",
      " [ 0.63063063]\n",
      " [ 0.64064064]\n",
      " [ 0.65065065]\n",
      " [ 0.66066066]\n",
      " [ 0.67067067]\n",
      " [ 0.68068068]\n",
      " [ 0.69069069]\n",
      " [ 0.7007007 ]\n",
      " [ 0.71071071]\n",
      " [ 0.72072072]\n",
      " [ 0.73073073]\n",
      " [ 0.74074074]\n",
      " [ 0.75075075]\n",
      " [ 0.76076076]\n",
      " [ 0.77077077]\n",
      " [ 0.78078078]\n",
      " [ 0.79079079]\n",
      " [ 0.8008008 ]\n",
      " [ 0.81081081]\n",
      " [ 0.82082082]\n",
      " [ 0.83083083]\n",
      " [ 0.84084084]\n",
      " [ 0.85085085]\n",
      " [ 0.86086086]\n",
      " [ 0.87087087]\n",
      " [ 0.88088088]\n",
      " [ 0.89089089]\n",
      " [ 0.9009009 ]\n",
      " [ 0.91091091]\n",
      " [ 0.92092092]\n",
      " [ 0.93093093]\n",
      " [ 0.94094094]\n",
      " [ 0.95095095]\n",
      " [ 0.96096096]\n",
      " [ 0.97097097]\n",
      " [ 0.98098098]\n",
      " [ 0.99099099]\n",
      " [ 1.001001  ]\n",
      " [ 1.01101101]\n",
      " [ 1.02102102]\n",
      " [ 1.03103103]\n",
      " [ 1.04104104]\n",
      " [ 1.05105105]\n",
      " [ 1.06106106]\n",
      " [ 1.07107107]\n",
      " [ 1.08108108]\n",
      " [ 1.09109109]\n",
      " [ 1.1011011 ]\n",
      " [ 1.11111111]\n",
      " [ 1.12112112]\n",
      " [ 1.13113113]\n",
      " [ 1.14114114]\n",
      " [ 1.15115115]\n",
      " [ 1.16116116]\n",
      " [ 1.17117117]\n",
      " [ 1.18118118]\n",
      " [ 1.19119119]\n",
      " [ 1.2012012 ]\n",
      " [ 1.21121121]\n",
      " [ 1.22122122]\n",
      " [ 1.23123123]\n",
      " [ 1.24124124]\n",
      " [ 1.25125125]\n",
      " [ 1.26126126]\n",
      " [ 1.27127127]\n",
      " [ 1.28128128]\n",
      " [ 1.29129129]\n",
      " [ 1.3013013 ]\n",
      " [ 1.31131131]\n",
      " [ 1.32132132]\n",
      " [ 1.33133133]\n",
      " [ 1.34134134]\n",
      " [ 1.35135135]\n",
      " [ 1.36136136]\n",
      " [ 1.37137137]\n",
      " [ 1.38138138]\n",
      " [ 1.39139139]\n",
      " [ 1.4014014 ]\n",
      " [ 1.41141141]\n",
      " [ 1.42142142]\n",
      " [ 1.43143143]\n",
      " [ 1.44144144]\n",
      " [ 1.45145145]\n",
      " [ 1.46146146]\n",
      " [ 1.47147147]\n",
      " [ 1.48148148]\n",
      " [ 1.49149149]\n",
      " [ 1.5015015 ]\n",
      " [ 1.51151151]\n",
      " [ 1.52152152]\n",
      " [ 1.53153153]\n",
      " [ 1.54154154]\n",
      " [ 1.55155155]\n",
      " [ 1.56156156]\n",
      " [ 1.57157157]\n",
      " [ 1.58158158]\n",
      " [ 1.59159159]\n",
      " [ 1.6016016 ]\n",
      " [ 1.61161161]\n",
      " [ 1.62162162]\n",
      " [ 1.63163163]\n",
      " [ 1.64164164]\n",
      " [ 1.65165165]\n",
      " [ 1.66166166]\n",
      " [ 1.67167167]\n",
      " [ 1.68168168]\n",
      " [ 1.69169169]\n",
      " [ 1.7017017 ]\n",
      " [ 1.71171171]\n",
      " [ 1.72172172]\n",
      " [ 1.73173173]\n",
      " [ 1.74174174]\n",
      " [ 1.75175175]\n",
      " [ 1.76176176]\n",
      " [ 1.77177177]\n",
      " [ 1.78178178]\n",
      " [ 1.79179179]\n",
      " [ 1.8018018 ]\n",
      " [ 1.81181181]\n",
      " [ 1.82182182]\n",
      " [ 1.83183183]\n",
      " [ 1.84184184]\n",
      " [ 1.85185185]\n",
      " [ 1.86186186]\n",
      " [ 1.87187187]\n",
      " [ 1.88188188]\n",
      " [ 1.89189189]\n",
      " [ 1.9019019 ]\n",
      " [ 1.91191191]\n",
      " [ 1.92192192]\n",
      " [ 1.93193193]\n",
      " [ 1.94194194]\n",
      " [ 1.95195195]\n",
      " [ 1.96196196]\n",
      " [ 1.97197197]\n",
      " [ 1.98198198]\n",
      " [ 1.99199199]\n",
      " [ 2.002002  ]\n",
      " [ 2.01201201]\n",
      " [ 2.02202202]\n",
      " [ 2.03203203]\n",
      " [ 2.04204204]\n",
      " [ 2.05205205]\n",
      " [ 2.06206206]\n",
      " [ 2.07207207]\n",
      " [ 2.08208208]\n",
      " [ 2.09209209]\n",
      " [ 2.1021021 ]\n",
      " [ 2.11211211]\n",
      " [ 2.12212212]\n",
      " [ 2.13213213]\n",
      " [ 2.14214214]\n",
      " [ 2.15215215]\n",
      " [ 2.16216216]\n",
      " [ 2.17217217]\n",
      " [ 2.18218218]\n",
      " [ 2.19219219]\n",
      " [ 2.2022022 ]\n",
      " [ 2.21221221]\n",
      " [ 2.22222222]\n",
      " [ 2.23223223]\n",
      " [ 2.24224224]\n",
      " [ 2.25225225]\n",
      " [ 2.26226226]\n",
      " [ 2.27227227]\n",
      " [ 2.28228228]\n",
      " [ 2.29229229]\n",
      " [ 2.3023023 ]\n",
      " [ 2.31231231]\n",
      " [ 2.32232232]\n",
      " [ 2.33233233]\n",
      " [ 2.34234234]\n",
      " [ 2.35235235]\n",
      " [ 2.36236236]\n",
      " [ 2.37237237]\n",
      " [ 2.38238238]\n",
      " [ 2.39239239]\n",
      " [ 2.4024024 ]\n",
      " [ 2.41241241]\n",
      " [ 2.42242242]\n",
      " [ 2.43243243]\n",
      " [ 2.44244244]\n",
      " [ 2.45245245]\n",
      " [ 2.46246246]\n",
      " [ 2.47247247]\n",
      " [ 2.48248248]\n",
      " [ 2.49249249]\n",
      " [ 2.5025025 ]\n",
      " [ 2.51251251]\n",
      " [ 2.52252252]\n",
      " [ 2.53253253]\n",
      " [ 2.54254254]\n",
      " [ 2.55255255]\n",
      " [ 2.56256256]\n",
      " [ 2.57257257]\n",
      " [ 2.58258258]\n",
      " [ 2.59259259]\n",
      " [ 2.6026026 ]\n",
      " [ 2.61261261]\n",
      " [ 2.62262262]\n",
      " [ 2.63263263]\n",
      " [ 2.64264264]\n",
      " [ 2.65265265]\n",
      " [ 2.66266266]\n",
      " [ 2.67267267]\n",
      " [ 2.68268268]\n",
      " [ 2.69269269]\n",
      " [ 2.7027027 ]\n",
      " [ 2.71271271]\n",
      " [ 2.72272272]\n",
      " [ 2.73273273]\n",
      " [ 2.74274274]\n",
      " [ 2.75275275]\n",
      " [ 2.76276276]\n",
      " [ 2.77277277]\n",
      " [ 2.78278278]\n",
      " [ 2.79279279]\n",
      " [ 2.8028028 ]\n",
      " [ 2.81281281]\n",
      " [ 2.82282282]\n",
      " [ 2.83283283]\n",
      " [ 2.84284284]\n",
      " [ 2.85285285]\n",
      " [ 2.86286286]\n",
      " [ 2.87287287]\n",
      " [ 2.88288288]\n",
      " [ 2.89289289]\n",
      " [ 2.9029029 ]\n",
      " [ 2.91291291]\n",
      " [ 2.92292292]\n",
      " [ 2.93293293]\n",
      " [ 2.94294294]\n",
      " [ 2.95295295]\n",
      " [ 2.96296296]\n",
      " [ 2.97297297]\n",
      " [ 2.98298298]\n",
      " [ 2.99299299]\n",
      " [ 3.003003  ]\n",
      " [ 3.01301301]\n",
      " [ 3.02302302]\n",
      " [ 3.03303303]\n",
      " [ 3.04304304]\n",
      " [ 3.05305305]\n",
      " [ 3.06306306]\n",
      " [ 3.07307307]\n",
      " [ 3.08308308]\n",
      " [ 3.09309309]\n",
      " [ 3.1031031 ]\n",
      " [ 3.11311311]\n",
      " [ 3.12312312]\n",
      " [ 3.13313313]\n",
      " [ 3.14314314]\n",
      " [ 3.15315315]\n",
      " [ 3.16316316]\n",
      " [ 3.17317317]\n",
      " [ 3.18318318]\n",
      " [ 3.19319319]\n",
      " [ 3.2032032 ]\n",
      " [ 3.21321321]\n",
      " [ 3.22322322]\n",
      " [ 3.23323323]\n",
      " [ 3.24324324]\n",
      " [ 3.25325325]\n",
      " [ 3.26326326]\n",
      " [ 3.27327327]\n",
      " [ 3.28328328]\n",
      " [ 3.29329329]\n",
      " [ 3.3033033 ]\n",
      " [ 3.31331331]\n",
      " [ 3.32332332]\n",
      " [ 3.33333333]\n",
      " [ 3.34334334]\n",
      " [ 3.35335335]\n",
      " [ 3.36336336]\n",
      " [ 3.37337337]\n",
      " [ 3.38338338]\n",
      " [ 3.39339339]\n",
      " [ 3.4034034 ]\n",
      " [ 3.41341341]\n",
      " [ 3.42342342]\n",
      " [ 3.43343343]\n",
      " [ 3.44344344]\n",
      " [ 3.45345345]\n",
      " [ 3.46346346]\n",
      " [ 3.47347347]\n",
      " [ 3.48348348]\n",
      " [ 3.49349349]\n",
      " [ 3.5035035 ]\n",
      " [ 3.51351351]\n",
      " [ 3.52352352]\n",
      " [ 3.53353353]\n",
      " [ 3.54354354]\n",
      " [ 3.55355355]\n",
      " [ 3.56356356]\n",
      " [ 3.57357357]\n",
      " [ 3.58358358]\n",
      " [ 3.59359359]\n",
      " [ 3.6036036 ]\n",
      " [ 3.61361361]\n",
      " [ 3.62362362]\n",
      " [ 3.63363363]\n",
      " [ 3.64364364]\n",
      " [ 3.65365365]\n",
      " [ 3.66366366]\n",
      " [ 3.67367367]\n",
      " [ 3.68368368]\n",
      " [ 3.69369369]\n",
      " [ 3.7037037 ]\n",
      " [ 3.71371371]\n",
      " [ 3.72372372]\n",
      " [ 3.73373373]\n",
      " [ 3.74374374]\n",
      " [ 3.75375375]\n",
      " [ 3.76376376]\n",
      " [ 3.77377377]\n",
      " [ 3.78378378]\n",
      " [ 3.79379379]\n",
      " [ 3.8038038 ]\n",
      " [ 3.81381381]\n",
      " [ 3.82382382]\n",
      " [ 3.83383383]\n",
      " [ 3.84384384]\n",
      " [ 3.85385385]\n",
      " [ 3.86386386]\n",
      " [ 3.87387387]\n",
      " [ 3.88388388]\n",
      " [ 3.89389389]\n",
      " [ 3.9039039 ]\n",
      " [ 3.91391391]\n",
      " [ 3.92392392]\n",
      " [ 3.93393393]\n",
      " [ 3.94394394]\n",
      " [ 3.95395395]\n",
      " [ 3.96396396]\n",
      " [ 3.97397397]\n",
      " [ 3.98398398]\n",
      " [ 3.99399399]\n",
      " [ 4.004004  ]\n",
      " [ 4.01401401]\n",
      " [ 4.02402402]\n",
      " [ 4.03403403]\n",
      " [ 4.04404404]\n",
      " [ 4.05405405]\n",
      " [ 4.06406406]\n",
      " [ 4.07407407]\n",
      " [ 4.08408408]\n",
      " [ 4.09409409]\n",
      " [ 4.1041041 ]\n",
      " [ 4.11411411]\n",
      " [ 4.12412412]\n",
      " [ 4.13413413]\n",
      " [ 4.14414414]\n",
      " [ 4.15415415]\n",
      " [ 4.16416416]\n",
      " [ 4.17417417]\n",
      " [ 4.18418418]\n",
      " [ 4.19419419]\n",
      " [ 4.2042042 ]\n",
      " [ 4.21421421]\n",
      " [ 4.22422422]\n",
      " [ 4.23423423]\n",
      " [ 4.24424424]\n",
      " [ 4.25425425]\n",
      " [ 4.26426426]\n",
      " [ 4.27427427]\n",
      " [ 4.28428428]\n",
      " [ 4.29429429]\n",
      " [ 4.3043043 ]\n",
      " [ 4.31431431]\n",
      " [ 4.32432432]\n",
      " [ 4.33433433]\n",
      " [ 4.34434434]\n",
      " [ 4.35435435]\n",
      " [ 4.36436436]\n",
      " [ 4.37437437]\n",
      " [ 4.38438438]\n",
      " [ 4.39439439]\n",
      " [ 4.4044044 ]\n",
      " [ 4.41441441]\n",
      " [ 4.42442442]\n",
      " [ 4.43443443]\n",
      " [ 4.44444444]\n",
      " [ 4.45445445]\n",
      " [ 4.46446446]\n",
      " [ 4.47447447]\n",
      " [ 4.48448448]\n",
      " [ 4.49449449]\n",
      " [ 4.5045045 ]\n",
      " [ 4.51451451]\n",
      " [ 4.52452452]\n",
      " [ 4.53453453]\n",
      " [ 4.54454454]\n",
      " [ 4.55455455]\n",
      " [ 4.56456456]\n",
      " [ 4.57457457]\n",
      " [ 4.58458458]\n",
      " [ 4.59459459]\n",
      " [ 4.6046046 ]\n",
      " [ 4.61461461]\n",
      " [ 4.62462462]\n",
      " [ 4.63463463]\n",
      " [ 4.64464464]\n",
      " [ 4.65465465]\n",
      " [ 4.66466466]\n",
      " [ 4.67467467]\n",
      " [ 4.68468468]\n",
      " [ 4.69469469]\n",
      " [ 4.7047047 ]\n",
      " [ 4.71471471]\n",
      " [ 4.72472472]\n",
      " [ 4.73473473]\n",
      " [ 4.74474474]\n",
      " [ 4.75475475]\n",
      " [ 4.76476476]\n",
      " [ 4.77477477]\n",
      " [ 4.78478478]\n",
      " [ 4.79479479]\n",
      " [ 4.8048048 ]\n",
      " [ 4.81481481]\n",
      " [ 4.82482482]\n",
      " [ 4.83483483]\n",
      " [ 4.84484484]\n",
      " [ 4.85485485]\n",
      " [ 4.86486486]\n",
      " [ 4.87487487]\n",
      " [ 4.88488488]\n",
      " [ 4.89489489]\n",
      " [ 4.9049049 ]\n",
      " [ 4.91491491]\n",
      " [ 4.92492492]\n",
      " [ 4.93493493]\n",
      " [ 4.94494494]\n",
      " [ 4.95495495]\n",
      " [ 4.96496496]\n",
      " [ 4.97497497]\n",
      " [ 4.98498498]\n",
      " [ 4.99499499]\n",
      " [ 5.00500501]\n",
      " [ 5.01501502]\n",
      " [ 5.02502503]\n",
      " [ 5.03503504]\n",
      " [ 5.04504505]\n",
      " [ 5.05505506]\n",
      " [ 5.06506507]\n",
      " [ 5.07507508]\n",
      " [ 5.08508509]\n",
      " [ 5.0950951 ]\n",
      " [ 5.10510511]\n",
      " [ 5.11511512]\n",
      " [ 5.12512513]\n",
      " [ 5.13513514]\n",
      " [ 5.14514515]\n",
      " [ 5.15515516]\n",
      " [ 5.16516517]\n",
      " [ 5.17517518]\n",
      " [ 5.18518519]\n",
      " [ 5.1951952 ]\n",
      " [ 5.20520521]\n",
      " [ 5.21521522]\n",
      " [ 5.22522523]\n",
      " [ 5.23523524]\n",
      " [ 5.24524525]\n",
      " [ 5.25525526]\n",
      " [ 5.26526527]\n",
      " [ 5.27527528]\n",
      " [ 5.28528529]\n",
      " [ 5.2952953 ]\n",
      " [ 5.30530531]\n",
      " [ 5.31531532]\n",
      " [ 5.32532533]\n",
      " [ 5.33533534]\n",
      " [ 5.34534535]\n",
      " [ 5.35535536]\n",
      " [ 5.36536537]\n",
      " [ 5.37537538]\n",
      " [ 5.38538539]\n",
      " [ 5.3953954 ]\n",
      " [ 5.40540541]\n",
      " [ 5.41541542]\n",
      " [ 5.42542543]\n",
      " [ 5.43543544]\n",
      " [ 5.44544545]\n",
      " [ 5.45545546]\n",
      " [ 5.46546547]\n",
      " [ 5.47547548]\n",
      " [ 5.48548549]\n",
      " [ 5.4954955 ]\n",
      " [ 5.50550551]\n",
      " [ 5.51551552]\n",
      " [ 5.52552553]\n",
      " [ 5.53553554]\n",
      " [ 5.54554555]\n",
      " [ 5.55555556]\n",
      " [ 5.56556557]\n",
      " [ 5.57557558]\n",
      " [ 5.58558559]\n",
      " [ 5.5955956 ]\n",
      " [ 5.60560561]\n",
      " [ 5.61561562]\n",
      " [ 5.62562563]\n",
      " [ 5.63563564]\n",
      " [ 5.64564565]\n",
      " [ 5.65565566]\n",
      " [ 5.66566567]\n",
      " [ 5.67567568]\n",
      " [ 5.68568569]\n",
      " [ 5.6956957 ]\n",
      " [ 5.70570571]\n",
      " [ 5.71571572]\n",
      " [ 5.72572573]\n",
      " [ 5.73573574]\n",
      " [ 5.74574575]\n",
      " [ 5.75575576]\n",
      " [ 5.76576577]\n",
      " [ 5.77577578]\n",
      " [ 5.78578579]\n",
      " [ 5.7957958 ]\n",
      " [ 5.80580581]\n",
      " [ 5.81581582]\n",
      " [ 5.82582583]\n",
      " [ 5.83583584]\n",
      " [ 5.84584585]\n",
      " [ 5.85585586]\n",
      " [ 5.86586587]\n",
      " [ 5.87587588]\n",
      " [ 5.88588589]\n",
      " [ 5.8958959 ]\n",
      " [ 5.90590591]\n",
      " [ 5.91591592]\n",
      " [ 5.92592593]\n",
      " [ 5.93593594]\n",
      " [ 5.94594595]\n",
      " [ 5.95595596]\n",
      " [ 5.96596597]\n",
      " [ 5.97597598]\n",
      " [ 5.98598599]\n",
      " [ 5.995996  ]\n",
      " [ 6.00600601]\n",
      " [ 6.01601602]\n",
      " [ 6.02602603]\n",
      " [ 6.03603604]\n",
      " [ 6.04604605]\n",
      " [ 6.05605606]\n",
      " [ 6.06606607]\n",
      " [ 6.07607608]\n",
      " [ 6.08608609]\n",
      " [ 6.0960961 ]\n",
      " [ 6.10610611]\n",
      " [ 6.11611612]\n",
      " [ 6.12612613]\n",
      " [ 6.13613614]\n",
      " [ 6.14614615]\n",
      " [ 6.15615616]\n",
      " [ 6.16616617]\n",
      " [ 6.17617618]\n",
      " [ 6.18618619]\n",
      " [ 6.1961962 ]\n",
      " [ 6.20620621]\n",
      " [ 6.21621622]\n",
      " [ 6.22622623]\n",
      " [ 6.23623624]\n",
      " [ 6.24624625]\n",
      " [ 6.25625626]\n",
      " [ 6.26626627]\n",
      " [ 6.27627628]\n",
      " [ 6.28628629]\n",
      " [ 6.2962963 ]\n",
      " [ 6.30630631]\n",
      " [ 6.31631632]\n",
      " [ 6.32632633]\n",
      " [ 6.33633634]\n",
      " [ 6.34634635]\n",
      " [ 6.35635636]\n",
      " [ 6.36636637]\n",
      " [ 6.37637638]\n",
      " [ 6.38638639]\n",
      " [ 6.3963964 ]\n",
      " [ 6.40640641]\n",
      " [ 6.41641642]\n",
      " [ 6.42642643]\n",
      " [ 6.43643644]\n",
      " [ 6.44644645]\n",
      " [ 6.45645646]\n",
      " [ 6.46646647]\n",
      " [ 6.47647648]\n",
      " [ 6.48648649]\n",
      " [ 6.4964965 ]\n",
      " [ 6.50650651]\n",
      " [ 6.51651652]\n",
      " [ 6.52652653]\n",
      " [ 6.53653654]\n",
      " [ 6.54654655]\n",
      " [ 6.55655656]\n",
      " [ 6.56656657]\n",
      " [ 6.57657658]\n",
      " [ 6.58658659]\n",
      " [ 6.5965966 ]\n",
      " [ 6.60660661]\n",
      " [ 6.61661662]\n",
      " [ 6.62662663]\n",
      " [ 6.63663664]\n",
      " [ 6.64664665]\n",
      " [ 6.65665666]\n",
      " [ 6.66666667]\n",
      " [ 6.67667668]\n",
      " [ 6.68668669]\n",
      " [ 6.6966967 ]\n",
      " [ 6.70670671]\n",
      " [ 6.71671672]\n",
      " [ 6.72672673]\n",
      " [ 6.73673674]\n",
      " [ 6.74674675]\n",
      " [ 6.75675676]\n",
      " [ 6.76676677]\n",
      " [ 6.77677678]\n",
      " [ 6.78678679]\n",
      " [ 6.7967968 ]\n",
      " [ 6.80680681]\n",
      " [ 6.81681682]\n",
      " [ 6.82682683]\n",
      " [ 6.83683684]\n",
      " [ 6.84684685]\n",
      " [ 6.85685686]\n",
      " [ 6.86686687]\n",
      " [ 6.87687688]\n",
      " [ 6.88688689]\n",
      " [ 6.8968969 ]\n",
      " [ 6.90690691]\n",
      " [ 6.91691692]\n",
      " [ 6.92692693]\n",
      " [ 6.93693694]\n",
      " [ 6.94694695]\n",
      " [ 6.95695696]\n",
      " [ 6.96696697]\n",
      " [ 6.97697698]\n",
      " [ 6.98698699]\n",
      " [ 6.996997  ]\n",
      " [ 7.00700701]\n",
      " [ 7.01701702]\n",
      " [ 7.02702703]\n",
      " [ 7.03703704]\n",
      " [ 7.04704705]\n",
      " [ 7.05705706]\n",
      " [ 7.06706707]\n",
      " [ 7.07707708]\n",
      " [ 7.08708709]\n",
      " [ 7.0970971 ]\n",
      " [ 7.10710711]\n",
      " [ 7.11711712]\n",
      " [ 7.12712713]\n",
      " [ 7.13713714]\n",
      " [ 7.14714715]\n",
      " [ 7.15715716]\n",
      " [ 7.16716717]\n",
      " [ 7.17717718]\n",
      " [ 7.18718719]\n",
      " [ 7.1971972 ]\n",
      " [ 7.20720721]\n",
      " [ 7.21721722]\n",
      " [ 7.22722723]\n",
      " [ 7.23723724]\n",
      " [ 7.24724725]\n",
      " [ 7.25725726]\n",
      " [ 7.26726727]\n",
      " [ 7.27727728]\n",
      " [ 7.28728729]\n",
      " [ 7.2972973 ]\n",
      " [ 7.30730731]\n",
      " [ 7.31731732]\n",
      " [ 7.32732733]\n",
      " [ 7.33733734]\n",
      " [ 7.34734735]\n",
      " [ 7.35735736]\n",
      " [ 7.36736737]\n",
      " [ 7.37737738]\n",
      " [ 7.38738739]\n",
      " [ 7.3973974 ]\n",
      " [ 7.40740741]\n",
      " [ 7.41741742]\n",
      " [ 7.42742743]\n",
      " [ 7.43743744]\n",
      " [ 7.44744745]\n",
      " [ 7.45745746]\n",
      " [ 7.46746747]\n",
      " [ 7.47747748]\n",
      " [ 7.48748749]\n",
      " [ 7.4974975 ]\n",
      " [ 7.50750751]\n",
      " [ 7.51751752]\n",
      " [ 7.52752753]\n",
      " [ 7.53753754]\n",
      " [ 7.54754755]\n",
      " [ 7.55755756]\n",
      " [ 7.56756757]\n",
      " [ 7.57757758]\n",
      " [ 7.58758759]\n",
      " [ 7.5975976 ]\n",
      " [ 7.60760761]\n",
      " [ 7.61761762]\n",
      " [ 7.62762763]\n",
      " [ 7.63763764]\n",
      " [ 7.64764765]\n",
      " [ 7.65765766]\n",
      " [ 7.66766767]\n",
      " [ 7.67767768]\n",
      " [ 7.68768769]\n",
      " [ 7.6976977 ]\n",
      " [ 7.70770771]\n",
      " [ 7.71771772]\n",
      " [ 7.72772773]\n",
      " [ 7.73773774]\n",
      " [ 7.74774775]\n",
      " [ 7.75775776]\n",
      " [ 7.76776777]\n",
      " [ 7.77777778]\n",
      " [ 7.78778779]\n",
      " [ 7.7977978 ]\n",
      " [ 7.80780781]\n",
      " [ 7.81781782]\n",
      " [ 7.82782783]\n",
      " [ 7.83783784]\n",
      " [ 7.84784785]\n",
      " [ 7.85785786]\n",
      " [ 7.86786787]\n",
      " [ 7.87787788]\n",
      " [ 7.88788789]\n",
      " [ 7.8978979 ]\n",
      " [ 7.90790791]\n",
      " [ 7.91791792]\n",
      " [ 7.92792793]\n",
      " [ 7.93793794]\n",
      " [ 7.94794795]\n",
      " [ 7.95795796]\n",
      " [ 7.96796797]\n",
      " [ 7.97797798]\n",
      " [ 7.98798799]\n",
      " [ 7.997998  ]\n",
      " [ 8.00800801]\n",
      " [ 8.01801802]\n",
      " [ 8.02802803]\n",
      " [ 8.03803804]\n",
      " [ 8.04804805]\n",
      " [ 8.05805806]\n",
      " [ 8.06806807]\n",
      " [ 8.07807808]\n",
      " [ 8.08808809]\n",
      " [ 8.0980981 ]\n",
      " [ 8.10810811]\n",
      " [ 8.11811812]\n",
      " [ 8.12812813]\n",
      " [ 8.13813814]\n",
      " [ 8.14814815]\n",
      " [ 8.15815816]\n",
      " [ 8.16816817]\n",
      " [ 8.17817818]\n",
      " [ 8.18818819]\n",
      " [ 8.1981982 ]\n",
      " [ 8.20820821]\n",
      " [ 8.21821822]\n",
      " [ 8.22822823]\n",
      " [ 8.23823824]\n",
      " [ 8.24824825]\n",
      " [ 8.25825826]\n",
      " [ 8.26826827]\n",
      " [ 8.27827828]\n",
      " [ 8.28828829]\n",
      " [ 8.2982983 ]\n",
      " [ 8.30830831]\n",
      " [ 8.31831832]\n",
      " [ 8.32832833]\n",
      " [ 8.33833834]\n",
      " [ 8.34834835]\n",
      " [ 8.35835836]\n",
      " [ 8.36836837]\n",
      " [ 8.37837838]\n",
      " [ 8.38838839]\n",
      " [ 8.3983984 ]\n",
      " [ 8.40840841]\n",
      " [ 8.41841842]\n",
      " [ 8.42842843]\n",
      " [ 8.43843844]\n",
      " [ 8.44844845]\n",
      " [ 8.45845846]\n",
      " [ 8.46846847]\n",
      " [ 8.47847848]\n",
      " [ 8.48848849]\n",
      " [ 8.4984985 ]\n",
      " [ 8.50850851]\n",
      " [ 8.51851852]\n",
      " [ 8.52852853]\n",
      " [ 8.53853854]\n",
      " [ 8.54854855]\n",
      " [ 8.55855856]\n",
      " [ 8.56856857]\n",
      " [ 8.57857858]\n",
      " [ 8.58858859]\n",
      " [ 8.5985986 ]\n",
      " [ 8.60860861]\n",
      " [ 8.61861862]\n",
      " [ 8.62862863]\n",
      " [ 8.63863864]\n",
      " [ 8.64864865]\n",
      " [ 8.65865866]\n",
      " [ 8.66866867]\n",
      " [ 8.67867868]\n",
      " [ 8.68868869]\n",
      " [ 8.6986987 ]\n",
      " [ 8.70870871]\n",
      " [ 8.71871872]\n",
      " [ 8.72872873]\n",
      " [ 8.73873874]\n",
      " [ 8.74874875]\n",
      " [ 8.75875876]\n",
      " [ 8.76876877]\n",
      " [ 8.77877878]\n",
      " [ 8.78878879]\n",
      " [ 8.7987988 ]\n",
      " [ 8.80880881]\n",
      " [ 8.81881882]\n",
      " [ 8.82882883]\n",
      " [ 8.83883884]\n",
      " [ 8.84884885]\n",
      " [ 8.85885886]\n",
      " [ 8.86886887]\n",
      " [ 8.87887888]\n",
      " [ 8.88888889]\n",
      " [ 8.8988989 ]\n",
      " [ 8.90890891]\n",
      " [ 8.91891892]\n",
      " [ 8.92892893]\n",
      " [ 8.93893894]\n",
      " [ 8.94894895]\n",
      " [ 8.95895896]\n",
      " [ 8.96896897]\n",
      " [ 8.97897898]\n",
      " [ 8.98898899]\n",
      " [ 8.998999  ]\n",
      " [ 9.00900901]\n",
      " [ 9.01901902]\n",
      " [ 9.02902903]\n",
      " [ 9.03903904]\n",
      " [ 9.04904905]\n",
      " [ 9.05905906]\n",
      " [ 9.06906907]\n",
      " [ 9.07907908]\n",
      " [ 9.08908909]\n",
      " [ 9.0990991 ]\n",
      " [ 9.10910911]\n",
      " [ 9.11911912]\n",
      " [ 9.12912913]\n",
      " [ 9.13913914]\n",
      " [ 9.14914915]\n",
      " [ 9.15915916]\n",
      " [ 9.16916917]\n",
      " [ 9.17917918]\n",
      " [ 9.18918919]\n",
      " [ 9.1991992 ]\n",
      " [ 9.20920921]\n",
      " [ 9.21921922]\n",
      " [ 9.22922923]\n",
      " [ 9.23923924]\n",
      " [ 9.24924925]\n",
      " [ 9.25925926]\n",
      " [ 9.26926927]\n",
      " [ 9.27927928]\n",
      " [ 9.28928929]\n",
      " [ 9.2992993 ]\n",
      " [ 9.30930931]\n",
      " [ 9.31931932]\n",
      " [ 9.32932933]\n",
      " [ 9.33933934]\n",
      " [ 9.34934935]\n",
      " [ 9.35935936]\n",
      " [ 9.36936937]\n",
      " [ 9.37937938]\n",
      " [ 9.38938939]\n",
      " [ 9.3993994 ]\n",
      " [ 9.40940941]\n",
      " [ 9.41941942]\n",
      " [ 9.42942943]\n",
      " [ 9.43943944]\n",
      " [ 9.44944945]\n",
      " [ 9.45945946]\n",
      " [ 9.46946947]\n",
      " [ 9.47947948]\n",
      " [ 9.48948949]\n",
      " [ 9.4994995 ]\n",
      " [ 9.50950951]\n",
      " [ 9.51951952]\n",
      " [ 9.52952953]\n",
      " [ 9.53953954]\n",
      " [ 9.54954955]\n",
      " [ 9.55955956]\n",
      " [ 9.56956957]\n",
      " [ 9.57957958]\n",
      " [ 9.58958959]\n",
      " [ 9.5995996 ]\n",
      " [ 9.60960961]\n",
      " [ 9.61961962]\n",
      " [ 9.62962963]\n",
      " [ 9.63963964]\n",
      " [ 9.64964965]\n",
      " [ 9.65965966]\n",
      " [ 9.66966967]\n",
      " [ 9.67967968]\n",
      " [ 9.68968969]\n",
      " [ 9.6996997 ]\n",
      " [ 9.70970971]\n",
      " [ 9.71971972]\n",
      " [ 9.72972973]\n",
      " [ 9.73973974]\n",
      " [ 9.74974975]\n",
      " [ 9.75975976]\n",
      " [ 9.76976977]\n",
      " [ 9.77977978]\n",
      " [ 9.78978979]\n",
      " [ 9.7997998 ]\n",
      " [ 9.80980981]\n",
      " [ 9.81981982]\n",
      " [ 9.82982983]\n",
      " [ 9.83983984]\n",
      " [ 9.84984985]\n",
      " [ 9.85985986]\n",
      " [ 9.86986987]\n",
      " [ 9.87987988]\n",
      " [ 9.88988989]\n",
      " [ 9.8998999 ]\n",
      " [ 9.90990991]\n",
      " [ 9.91991992]\n",
      " [ 9.92992993]\n",
      " [ 9.93993994]\n",
      " [ 9.94994995]\n",
      " [ 9.95995996]\n",
      " [ 9.96996997]\n",
      " [ 9.97997998]\n",
      " [ 9.98998999]\n",
      " [10.        ]]\n"
     ]
    }
   ],
   "source": [
    "lrm = LinearRegression(fit_intercept=True)\n",
    "lrm.fit(x_series, y)\n",
    "\n",
    "xfit = np.linspace(0,10,1000) # create 1000 datapoints from 0 to 10 as an array\n",
    "xfit_series = xfit[:, np.newaxis] # xfit_series is now a series, same as xfit.reshape(-1,1)\n",
    "print(xfit_series)\n",
    "yfit = lrm.predict(xfit_series)"
   ]
  },
  {
   "cell_type": "code",
   "execution_count": 40,
   "metadata": {},
   "outputs": [
    {
     "data": {
      "text/plain": [
       "[<matplotlib.lines.Line2D at 0x10bd0d748>]"
      ]
     },
     "execution_count": 40,
     "metadata": {},
     "output_type": "execute_result"
    },
    {
     "data": {
      "image/png": "[encoded data removed]",
      "text/plain": [
       "<Figure size 432x288 with 1 Axes>"
      ]
     },
     "metadata": {},
     "output_type": "display_data"
    }
   ],
   "source": [
    "plt.scatter(x,y)\n",
    "plt.plot(xfit_series, yfit)"
   ]
  },
  {
   "cell_type": "code",
   "execution_count": 41,
   "metadata": {},
   "outputs": [
    {
     "name": "stdout",
     "output_type": "stream",
     "text": [
      "[2.02720881]\n",
      "-4.998577085553204\n"
     ]
    }
   ],
   "source": [
    "print(lrm.coef_)\n",
    "print(lrm.intercept_)"
   ]
  },
  {
   "cell_type": "code",
   "execution_count": 42,
   "metadata": {},
   "outputs": [],
   "source": [
    "from sklearn.pipeline import make_pipeline\n",
    "from sklearn.preprocessing import PolynomialFeatures"
   ]
  },
  {
   "cell_type": "code",
   "execution_count": 43,
   "metadata": {},
   "outputs": [],
   "source": [
    "poly_model_3 = make_pipeline(PolynomialFeatures(3), LinearRegression())\n",
    "poly_model_5 = make_pipeline(PolynomialFeatures(5), LinearRegression())\n",
    "poly_model_7 = make_pipeline(PolynomialFeatures(7), LinearRegression())"
   ]
  },
  {
   "cell_type": "code",
   "execution_count": 44,
   "metadata": {},
   "outputs": [],
   "source": [
    "rng = np.random.RandomState(1)\n",
    "x = 10*rng.rand(50)  # generate 50 random numbers between 0 and 10\n",
    "x_series = x.reshape(-1,1)\n",
    "y = np.sin(x) + 0.1 * rng.randn(50) # create y with a slope of 2, intercept -5, 50 times with some noise"
   ]
  },
  {
   "cell_type": "code",
   "execution_count": 45,
   "metadata": {},
   "outputs": [],
   "source": [
    "xfit = np.linspace(0,10,1000) # create 1000 datapoints from 0 to 10 as an array\n",
    "xfit_series = xfit[:, np.newaxis] # xfit_series is now a series, same as xfit.reshape(-1,1)"
   ]
  },
  {
   "cell_type": "code",
   "execution_count": 46,
   "metadata": {},
   "outputs": [
    {
     "data": {
      "text/plain": [
       "[<matplotlib.lines.Line2D at 0x10be54198>]"
      ]
     },
     "execution_count": 46,
     "metadata": {},
     "output_type": "execute_result"
    },
    {
     "data": {
      "image/png": "[encoded data removed]",
      "text/plain": [
       "<Figure size 432x288 with 1 Axes>"
      ]
     },
     "metadata": {},
     "output_type": "display_data"
    }
   ],
   "source": [
    "poly_model_3.fit(x_series,y)\n",
    "yfit = poly_model_3.predict(xfit_series)\n",
    "plt.scatter(x,y)\n",
    "plt.plot(xfit_series, yfit)"
   ]
  },
  {
   "cell_type": "code",
   "execution_count": 47,
   "metadata": {
    "scrolled": true
   },
   "outputs": [
    {
     "data": {
      "text/plain": [
       "[<matplotlib.lines.Line2D at 0x10bdc5828>]"
      ]
     },
     "execution_count": 47,
     "metadata": {},
     "output_type": "execute_result"
    },
    {
     "data": {
      "image/png": "[encoded data removed]",
      "text/plain": [
       "<Figure size 432x288 with 1 Axes>"
      ]
     },
     "metadata": {},
     "output_type": "display_data"
    }
   ],
   "source": [
    "poly_model_5.fit(x_series,y)\n",
    "yfit = poly_model_5.predict(xfit_series)\n",
    "plt.scatter(x,y)\n",
    "plt.plot(xfit_series, yfit)"
   ]
  },
  {
   "cell_type": "markdown",
   "metadata": {},
   "source": [
    "poly_model_7.fit(x_series,y)\n",
    "yfit = poly_model_7.predict(xfit_series)\n",
    "plt.scatter(x,y)\n",
    "plt.plot(xfit_series, yfit)"
   ]
  },
  {
   "cell_type": "markdown",
   "metadata": {},
   "source": [
    "Which polynomial degree produces the model with the lowest error?\n",
    "\n",
    "Visually we would expect the 7th degree Polynomial, and in when running the model that can be seen to be true."
   ]
  },
  {
   "cell_type": "markdown",
   "metadata": {},
   "source": [
    "#### Overfitting\n",
    "\n",
    "For a 15th degree polynomial, we can start to see that we are overfitting. "
   ]
  },
  {
   "cell_type": "code",
   "execution_count": 59,
   "metadata": {},
   "outputs": [
    {
     "data": {
      "text/plain": [
       "[<matplotlib.lines.Line2D at 0x10c710898>]"
      ]
     },
     "execution_count": 59,
     "metadata": {},
     "output_type": "execute_result"
    },
    {
     "data": {
      "image/png": "[encoded data removed]",
      "text/plain": [
       "<Figure size 432x288 with 1 Axes>"
      ]
     },
     "metadata": {},
     "output_type": "display_data"
    }
   ],
   "source": [
    "poly_model_15 = make_pipeline(PolynomialFeatures(15), LinearRegression())\n",
    "\n",
    "poly_model_15.fit(x_series,y)\n",
    "yfit = poly_model_15.predict(xfit_series)\n",
    "plt.scatter(x,y)\n",
    "plt.plot(xfit_series, yfit)\n",
    "\n"
   ]
  },
  {
   "cell_type": "code",
   "execution_count": 60,
   "metadata": {},
   "outputs": [
    {
     "name": "stdout",
     "output_type": "stream",
     "text": [
      "5th Degree Polynomial error: 0.22723083051616233\n",
      "7th Degree Polynomial error: 0.11618129422619974\n",
      "15th Degree Polynomial error: 0.14290270440417632\n"
     ]
    }
   ],
   "source": [
    "poly7 = np.sqrt(-cross_val_score(poly_model_7, x_series, y, cv=10, scoring='neg_mean_squared_error')).mean()\n",
    "poly5 = np.sqrt(-cross_val_score(poly_model_5, x_series, y, cv=10, scoring='neg_mean_squared_error')).mean()\n",
    "poly15 = np.sqrt(-cross_val_score(poly_model_15, x_series, y, cv=10, scoring='neg_mean_squared_error')).mean()\n",
    "\n",
    "\n",
    "print(f\"5th Degree Polynomial error: {poly5}\")\n",
    "print(f\"7th Degree Polynomial error: {poly7}\")\n",
    "print(f\"15th Degree Polynomial error: {poly15}\")"
   ]
  },
  {
   "cell_type": "markdown",
   "metadata": {},
   "source": [
    "## Regularization\n",
    "\n",
    "Regularization is a way to handle overfitting by keeping the coefficients to the linear equation from getting too big, and sometimes the coefficients are zero.  This is a way of reducing the complexity of a model, you will reduce the chance of overfitting.\n",
    "\n",
    "There is two types of regularization:\n",
    "\n",
    "### L1 Regularization ( Lasso )\n",
    "This type of regularization attempts to minimize the sum of the absolute values of the coefficients.\n",
    "\n",
    "### L2 Regularization (Ridge)\n",
    "This type of regularization attempts to minimuze the sum of the squares of the coefficients.\n",
    "\n"
   ]
  },
  {
   "cell_type": "code",
   "execution_count": 68,
   "metadata": {},
   "outputs": [
    {
     "name": "stderr",
     "output_type": "stream",
     "text": [
      "/Users/patryan/Development/mygithub/machinelearning101/venv/lib/python3.6/site-packages/sklearn/linear_model/coordinate_descent.py:491: ConvergenceWarning: Objective did not converge. You might want to increase the number of iterations. Fitting data with very small alpha may cause precision problems.\n",
      "  ConvergenceWarning)\n"
     ]
    },
    {
     "data": {
      "text/plain": [
       "[<matplotlib.lines.Line2D at 0x10cc59da0>]"
      ]
     },
     "execution_count": 68,
     "metadata": {},
     "output_type": "execute_result"
    },
    {
     "data": {
      "image/png": "[encoded data removed]",
      "text/plain": [
       "<Figure size 432x288 with 1 Axes>"
      ]
     },
     "metadata": {},
     "output_type": "display_data"
    }
   ],
   "source": [
    "from sklearn.linear_model import Lasso\n",
    "poly_model_15 = make_pipeline(PolynomialFeatures(7), Lasso(alpha=0.1))\n",
    "\n",
    "poly_model_15.fit(x_series,y)\n",
    "yfit = poly_model_15.predict(xfit_series)\n",
    "plt.scatter(x,y)\n",
    "plt.plot(xfit_series, yfit)\n",
    "\n"
   ]
  },
  {
   "cell_type": "code",
   "execution_count": 65,
   "metadata": {},
   "outputs": [
    {
     "data": {
      "text/plain": [
       "[<matplotlib.lines.Line2D at 0x10c8c1860>]"
      ]
     },
     "execution_count": 65,
     "metadata": {},
     "output_type": "execute_result"
    },
    {
     "data": {
      "image/png": "[encoded data removed]",
      "text/plain": [
       "<Figure size 432x288 with 1 Axes>"
      ]
     },
     "metadata": {},
     "output_type": "display_data"
    }
   ],
   "source": [
    "from sklearn.linear_model import Ridge\n",
    "poly_model_15 = make_pipeline(PolynomialFeatures(15), Ridge(alpha=0.1))\n",
    "\n",
    "poly_model_15.fit(x_series,y)\n",
    "yfit = poly_model_15.predict(xfit_series)\n",
    "plt.scatter(x,y)\n",
    "plt.plot(xfit_series, yfit)\n",
    "\n"
   ]
  },
  {
   "cell_type": "markdown",
   "metadata": {},
   "source": [
    "## Resources\n",
    "\n",
    "Linear regression:\n",
    "\n",
    "- [Longer notebook on linear regression](https://github.com/justmarkham/DAT5/blob/master/notebooks/09_linear_regression.ipynb) by Kevin Markham of DataSchool.io\n",
    "- Chapter 3 of [An Introduction to Statistical Learning](http://www-bcf.usc.edu/~gareth/ISL/) and [related videos](http://www.dataschool.io/15-hours-of-expert-machine-learning-videos/) by Hastie and Tibshirani (Stanford)\n",
    "- [Quick reference guide to applying and interpreting linear regression](http://www.dataschool.io/applying-and-interpreting-linear-regression/) by me\n",
    "- [Introduction to linear regression](http://people.duke.edu/~rnau/regintro.htm) by Robert Nau (Duke)\n",
    "\n",
    "Pandas:\n",
    "\n",
    "- [Three-part pandas tutorial](http://www.gregreda.com/2013/10/26/intro-to-pandas-data-structures/) by Greg Reda\n",
    "- [read_csv](http://pandas.pydata.org/pandas-docs/stable/generated/pandas.read_csv.html) and [read_table](http://pandas.pydata.org/pandas-docs/stable/generated/pandas.read_table.html) documentation\n",
    "\n",
    "Seaborn:\n",
    "\n",
    "- [Official seaborn tutorial](http://web.stanford.edu/~mwaskom/software/seaborn/tutorial.html)\n",
    "- [Example gallery](http://web.stanford.edu/~mwaskom/software/seaborn/examples/index.html)"
   ]
  }
 ],
 "metadata": {
  "kernelspec": {
   "display_name": "Python 3",
   "language": "python",
   "name": "python3"
  },
  "language_info": {
   "codemirror_mode": {
    "name": "ipython",
    "version": 3
   },
   "file_extension": ".py",
   "mimetype": "text/x-python",
   "name": "python",
   "nbconvert_exporter": "python",
   "pygments_lexer": "ipython3",
   "version": "3.6.3"
  }
 },
 "nbformat": 4,
 "nbformat_minor": 1
}
