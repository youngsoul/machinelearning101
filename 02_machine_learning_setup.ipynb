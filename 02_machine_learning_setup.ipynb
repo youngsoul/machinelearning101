{
 "cells": [
  {
   "cell_type": "markdown",
   "metadata": {},
   "source": [
    "# Setup Environment for Machine Learning with Python\n"
   ]
  },
  {
   "cell_type": "markdown",
   "metadata": {},
   "source": [
    "## Agenda\n",
    "\n",
    "- What are the benefits of scikit-learn?\n",
    "- How do I install scikit-learn?\n",
    "- How do I use the Jupyter Notebook?\n",
    "- What are some good resources for learning Python?"
   ]
  },
  {
   "cell_type": "markdown",
   "metadata": {},
   "source": [
    "![scikit-learn algorithm map](images/02_sklearn_algorithms.png)"
   ]
  },
  {
   "cell_type": "markdown",
   "metadata": {},
   "source": [
    "## Benefits and drawbacks of scikit-learn\n",
    "\n",
    "### Benefits:\n",
    "\n",
    "- **Consistent interface** to machine learning models\n",
    "- Provides many **tuning parameters** but with **sensible defaults**\n",
    "- Exceptional **documentation**\n",
    "- Rich set of functionality for **companion tasks**\n",
    "- **Active community** for development and support\n",
    "\n",
    "### Further reading:\n",
    "\n",
    "- Ben Lorica: [Six reasons why I recommend scikit-learn](http://radar.oreilly.com/2013/12/six-reasons-why-i-recommend-scikit-learn.html)\n",
    "- scikit-learn authors: [API design for machine learning software](http://arxiv.org/pdf/1309.0238v1.pdf)\n",
    "- Data School: [Should you teach Python or R for data science?](http://www.dataschool.io/python-or-r-for-data-science/)"
   ]
  },
  {
   "cell_type": "markdown",
   "metadata": {},
   "source": [
    "# Environment Setup\n",
    "\n",
    "\n",
    "## Python version 3.6.x\n",
    "Install Python 3.6.x on your particular system.\n",
    "\n",
    "\n",
    "## Python Virtual Environment\n",
    "\n",
    "It is recommended that you create a virtual environment to hold all of the python libraries seperate from your other python environments.\n",
    "\n",
    "`python3 -m venv /path/to/new/virtual/environment`\n",
    "\n",
    "then source the new environment so all python applications use the virtual environment:\n",
    "\n",
    "`source /path/to/new/virtual/environment/bin/activate`\n",
    "\n",
    "## Python Libraries for Scikit-Learn Machine Learning\n",
    "\n",
    "* pip install scipy\n",
    "* pip install scikit-learn\n",
    "* pip install jupyter\n",
    "* pip install matplotlib\n",
    "* pip install pandas\n",
    "* pip install seaborn\n",
    "\n",
    "`pip install scipy scikit-learn jupyter matplotlib pandas seaborn`\n",
    "\n",
    "\n",
    "## Jupyter notebook\n",
    "\n",
    "To run the jupyter notebook after activating your virtual environment execute the following on the command line:\n",
    "\n",
    "`jupyter notebook`\n",
    "\n",
    "- Don't close the command line window while the Notebook is running\n",
    "\n"
   ]
  },
  {
   "cell_type": "markdown",
   "metadata": {},
   "source": [
    "![Jupyter header](images/jupyter.svg)"
   ]
  },
  {
   "cell_type": "markdown",
   "metadata": {},
   "source": [
    "## Using the Jupyter Notebook\n",
    "\n",
    "### Components:\n",
    "\n",
    "- **Jupyter interpreter:** enhanced version of the standard Python interpreter\n",
    "- **Browser-based notebook interface:** weave together code, formatted text, and plots\n",
    "\n",
    "### Keyboard shortcuts:\n",
    "\n",
    "**Command mode** (gray border)\n",
    "\n",
    "- Create new cells above (**a**) or below (**b**) the current cell\n",
    "- Navigate using the **up arrow** and **down arrow**\n",
    "- Convert the cell type to Markdown (**m**) or code (**y**)\n",
    "- See keyboard shortcuts using **h**\n",
    "- Switch to Edit mode using **Enter**\n",
    "\n",
    "**Edit mode** (green border)\n",
    "\n",
    "- **Ctrl+Enter** to run a cell\n",
    "- **Option+Enter** to run AND a new cell below\n",
    "- Switch to Command mode using **Esc**\n",
    "\n",
    "### Jupyter and Markdown resources:\n",
    "\n",
    "- [nbviewer](http://nbviewer.jupyter.org/): view notebooks online as static documents\n",
    "- [IPython documentation](http://ipython.readthedocs.io/en/stable/): focuses on the interpreter\n",
    "- [IPython Notebook tutorials](http://jupyter.readthedocs.io/en/latest/content-quickstart.html): in-depth introduction\n",
    "- [GitHub's Mastering Markdown](https://guides.github.com/features/mastering-markdown/): short guide with lots of examples\n",
    "- [IBM Jupyter Notebook Markdown Cheatsheet](https://medium.com/ibm-data-science-experience/markdown-for-jupyter-notebooks-cheatsheet-386c05aeebed)"
   ]
  },
  {
   "cell_type": "markdown",
   "metadata": {},
   "source": [
    "## Resources for learning Python\n",
    "\n",
    "- [TalkPython.fm](https://talkpython.fm/): Really good courses explained very well.\n",
    "- [Codecademy's Python course](https://www.codecademy.com/learn/python): browser-based, tons of exercises\n",
    "- [DataQuest](https://www.dataquest.io/): browser-based, teaches Python in the context of data science\n",
    "- [Google's Python class](https://developers.google.com/edu/python/): slightly more advanced, includes videos and downloadable exercises (with solutions)\n",
    "- [Python for Informatics](http://www.pythonlearn.com/): beginner-oriented book, includes slides and videos"
   ]
  },
  {
   "cell_type": "markdown",
   "metadata": {},
   "source": [
    "# What does machine learning look like from an App Dev perspective?\n",
    "\n",
    "Below is an example of applying a machine learning algorithm to a known dataset."
   ]
  },
  {
   "cell_type": "code",
   "execution_count": 1,
   "metadata": {},
   "outputs": [
    {
     "name": "stdout",
     "output_type": "stream",
     "text": [
      "Testing Score: 0.9736842105263158\n",
      "Prediction: 0\n",
      "Predicted target name: ['setosa']\n"
     ]
    }
   ],
   "source": [
    "from sklearn.datasets import load_iris\n",
    "from sklearn.model_selection import train_test_split\n",
    "from sklearn.neighbors import KNeighborsClassifier\n",
    "import numpy as np\n",
    "\n",
    "# Load the data\n",
    "iris_dataset = load_iris()\n",
    "X = iris_dataset['data']\n",
    "y = iris_dataset['target']\n",
    "\n",
    "# Split the data into training and testing sets\n",
    "X_train, X_test, y_train, y_test = train_test_split(X,y,random_state=12)\n",
    "\n",
    "# Instantiate the model\n",
    "knn = KNeighborsClassifier(n_neighbors=1)\n",
    "\n",
    "# Fit the model\n",
    "knn.fit(X_train, y_train)\n",
    "\n",
    "# Score the model on the unseen test data set\n",
    "score = knn.score(X_test, y_test)\n",
    "print(f\"Testing Score: {score}\")\n",
    "\n",
    "# Predict on new data\n",
    "new_data = np.array([[5, 2.9, 1, 0.2]])\n",
    "prediction = knn.predict(new_data)\n",
    "print(f\"Prediction: {prediction[0]}\")\n",
    "print(f\"Predicted target name: {iris_dataset['target_names'][prediction]}\")"
   ]
  },
  {
   "cell_type": "markdown",
   "metadata": {},
   "source": [
    "#### We will look at the details of this process in the next Jupyter Notebooks"
   ]
  }
 ],
 "metadata": {
  "kernelspec": {
   "display_name": "Python 3",
   "language": "python",
   "name": "python3"
  },
  "language_info": {
   "codemirror_mode": {
    "name": "ipython",
    "version": 3
   },
   "file_extension": ".py",
   "mimetype": "text/x-python",
   "name": "python",
   "nbconvert_exporter": "python",
   "pygments_lexer": "ipython3",
   "version": "3.6.3"
  }
 },
 "nbformat": 4,
 "nbformat_minor": 1
}
